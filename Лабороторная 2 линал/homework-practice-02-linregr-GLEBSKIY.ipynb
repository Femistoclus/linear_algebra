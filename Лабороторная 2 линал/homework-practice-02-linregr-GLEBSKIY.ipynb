{
 "cells": [
  {
   "attachments": {},
   "cell_type": "markdown",
   "metadata": {
    "id": "VJEZ8P61An7I"
   },
   "source": [
    "# Лабораторная работа 2\n",
    "\n",
    "## Линейная регрессия"
   ]
  },
  {
   "attachments": {},
   "cell_type": "markdown",
   "metadata": {
    "id": "5kOKUEqSSU5j"
   },
   "source": [
    "## Часть 1: Приближаем функции\n"
   ]
  },
  {
   "attachments": {},
   "cell_type": "markdown",
   "metadata": {
    "id": "y3OmO16EAn7M"
   },
   "source": [
    "### Метод наименьших квадратов: постановка задачи\n",
    "\n",
    "Рассмотрим систему уравнений $Xa = y$, в которой $a$ — столбец неизвестных. Её можно переписать в векторном виде\n",
    "$$x_1 a_1 + x_2 a_2 + \\ldots + x_k a_k = y,$$\n",
    "где $x_1,\\ldots,x_k$ — столбцы матрицы $X$. Таким образом, решить исходную систему означает найти линейную комбинацию векторов $x_1,\\ldots,x_k$, равную правой части. Но что делать, если такой линейной комбинации не существует? Геометрически это означает, что вектор $y$ не лежит в подпространстве $U = \\langle x_1,\\ldots, x_k\\rangle$. В этом случае мы можем найти *псевдорешение*: вектор коэффициентов $\\hat{a}$, для которого линейная комбинация $x_1 \\hat{a}_1 + x_2 \\hat{a}_2 + \\ldots + x_k \\hat{a}_k$ хоть и не равна в точности $y$, но является наилучшим приближением — то есть ближайшей к $y$ точкой $\\hat{y}$ подпространства $U$ (иными словами, ортогональной проекцией $y$ на это подпростанство). Итак, цель наших исканий можно сформулировать двумя эквивалентными способами:\n",
    "\n",
    "1. Найти вектор $\\hat{a}$, для которого длина разности $|X\\hat{a} - y|$ минимальна;\n",
    "2. Найти ортогональную проекцию $\\hat{y}$ вектора $y$ на подпространство $U$ и представить её в виде $X\\hat{a}$.\n",
    "\n",
    "Далее мы будем предполагать, что векторы $x_1,\\ldots,x_k$ линейно независимы (если нет, то сначала имеет смысл выделить максимальную линейно независимую подсистему).\n",
    "\n",
    "На лекциях было показано, что проекция вектора $y$ на подпространство $U = \\langle x_1,\\ldots, x_k\\rangle$, записывается в виде\n",
    "$$\\hat{y} = X\\left(X^TX\\right)^{-1}X^Ty,$$\n",
    "и, соответственно, искомый вектор $\\hat{a}$ равен\n",
    "$$\\hat{a} = \\left(X^TX\\right)^{-1}X^Ty.$$"
   ]
  },
  {
   "attachments": {},
   "cell_type": "markdown",
   "metadata": {
    "id": "Wbh4XI_BAn7P"
   },
   "source": [
    "### Задача линейной регрессии\n",
    "\n",
    "Начнём с примера. Допустим, вы хотите найти зависимость среднего балла S студента ФКН от его роста H, веса W, длины волос L и N — количества часов, которые он ежедневно посвящает учёбе. Представьте, что мы измерили все эти параметры для $n$ студентов и получили наборы значений: $S_1,\\ldots, S_n$, $H_1,\\ldots, H_n$ и так далее.\n",
    "\n",
    "Теперь мы хотим построить **модель**, т.е. определить алгоритм, который будет принимать на вход некоторый набор параметров (в данном случае это измеренные нами $H, W, L$ и $N$), и выдавать значение некоторой **целевой переменной** (в данном примере это $S$). Тут можно подбирать много разных умных моделей, но начать имеет смысл с самой простой, линейной:\n",
    "\n",
    "$$S = a_0 + a_1H + a_2W + a_3L + a_4N.$$\n",
    "\n",
    "Конечно, строгой линейной зависимости нет (иначе можно было бы радостно упразднить экзамены), но мы можем попробовать подобрать коэффициенты $a_0, a_1, a_2, a_3, a_4$, удовлетворяющие вот такому требованию:\n",
    "$$\\sum_{i=1}^n\\left(S_i - ( a_0 + a_1H_i + a_2W_i + a_3L_i + a_4N_i)\\right)^2 \\longrightarrow \\min$$\n",
    "Т.е. мы хотим, чтобы квадрат отклонения правой части от левой был поменьше для всех $n$ студентов. Введём несколько обозначений:\n",
    "$$X =\n",
    "\\begin{pmatrix}\n",
    "1 & H_1 & W_1 & L_1 & N_1\\\\\n",
    "1 & H_2 & W_2 & L_2 & N_2\\\\\n",
    "\\vdots & \\vdots & \\vdots & \\vdots & \\vdots \\\\\n",
    "1 & H_n & W_n & L_n & N_n\n",
    "\\end{pmatrix}, \\qquad a=\n",
    "\\begin{pmatrix}\n",
    "a_0\\\\ a_1\\\\ \\vdots\\\\ a_4\n",
    "\\end{pmatrix},\\qquad y=\n",
    "\\begin{pmatrix}\n",
    "S_1\\\\ S_2\\\\ \\vdots \\\\ S_n\n",
    "\\end{pmatrix}.$$\n",
    "\n",
    "Теперь наше требование выше можно переписать в таком виде:\n",
    "$$\n",
    "\\sum_{i=1}^n\\left(S_i - ( a_0 + a_1H_i + a_2W_i + a_3L_i + a_4N_i)\\right)^2 = |y - Xa|^2 \\longrightarrow \\min\n",
    "$$\n",
    "\n",
    "И теперь видно, что мы получили задачу на метод наименьших квадратов!\n",
    "Решая эту задачу с помощью уже известных формул, получаем оценки коэффициентов $\\hat{a}_i$ ($i = 1\\ldots,5$)."
   ]
  },
  {
   "attachments": {},
   "cell_type": "markdown",
   "metadata": {
    "id": "v76yazhJAn7R"
   },
   "source": [
    "Теперь проговорим общую постановку задачи линейной регрессии. У нас есть $k$ переменных $x_1,\\ldots,x_k$ (\"регрессоров\"), через которые мы хотим выразить \"объясняемую переменную\" $y$:\n",
    "$$y = a_1x_1 + a_2x_2 + \\ldots + a_kx_k$$\n",
    "Значения всех переменных мы измерили $n$ раз (у $n$ различных объектов,  в $n$ различных моментов времени - это зависит от задачи). Подставим эти данные в предыдущее равенство:\n",
    "$$\\begin{pmatrix}\n",
    "y_1\\\\ y_2 \\\\ \\vdots \\\\ y_n\n",
    "\\end{pmatrix} = \n",
    "a_1\\begin{pmatrix}\n",
    "x_{11} \\\\ x_{21} \\\\ \\vdots \\\\ x_{n1} \\end{pmatrix} + a_2\\begin{pmatrix}\n",
    "x_{12} \\\\ x_{22} \\\\ \\vdots \\\\ x_{n2} \\end{pmatrix} + \\ldots + a_k\\begin{pmatrix}\n",
    "x_{1k} \\\\ x_{2k} \\\\ \\vdots \\\\ x_{nk} \\end{pmatrix}$$\n",
    "(здесь $x_{ij}$ - это значение $j$-го признака на $i$-м измерении). Это удобно переписать в матричном виде:\n",
    "$$\\begin{pmatrix}\n",
    "x_{11} & x_{12} & \\ldots & x_{1k}\\\\\n",
    "x_{21} & x_{22} & \\ldots & x_{2k}\\\\\n",
    "\\dots & \\dots & \\dots & \\dots\\\\\n",
    "x_{n1} & x_{n2} & \\ldots & x_{nk}\n",
    "\\end{pmatrix} \\cdot\n",
    "\\begin{pmatrix}\n",
    "a_1 \\\\ a_2 \\\\ \\vdots \\\\ a_k\n",
    "\\end{pmatrix} = \n",
    "\\begin{pmatrix}\n",
    "y_1 \\\\ y_2 \\\\ \\vdots \\\\ y_n\n",
    "\\end{pmatrix}$$\n",
    "или коротко $Xa = y$. Поскольку на практике эта система уравнений зачастую не имеет решения (ибо зависимости в жизни редко бывают действительно линейными), методом наименьших квадратов ищется псевдорешение."
   ]
  },
  {
   "attachments": {},
   "cell_type": "markdown",
   "metadata": {
    "id": "kDX5t_BxAn7T"
   },
   "source": [
    "### Оценка качества. Обучение и тест \n",
    "\n",
    "После того, как вы построили регрессию и получили какую-то зависимость объясняемой переменной от регрессоров, настаёт время оценить качество регрессии. Есть много разных функционалов качества; мы пока будем говорить только о самом простом и очевидном из них: о среднеквадратичной ошибке (mean square e). Она равна\n",
    "$$\\frac1{n}|X\\hat{a} - y|^2 = \\frac1{n}\\sum_{i=1}^n\\left(\\hat{a}_1x_{i1} + \\hat{a}_2x_{i2} + \\ldots + \\hat{a}_kx_{ik} - y_i\\right)^2$$\n",
    "\n",
    "В целом, хочется искать модели с наименьшей mean square e на имеющихся данных. Однако слишком фанатичная гонка за минимизацией ошибки может привести к печальным последствиям, в чём Вам предстоит убедиться в ходе выполнения этой лабораторной.\n",
    "\n",
    "Чтобы не попадать в эту ловушку, данные обычно делят на обучающие (по которым строят модель и оценивают коэффициенты) и тестовые. Лучшей стоит счесть ту модель, для которой значение функционала качества будет меньше."
   ]
  },
  {
   "attachments": {},
   "cell_type": "markdown",
   "metadata": {
    "id": "CMrD0HArAn7T"
   },
   "source": [
    "### Правила оформления графиков\n",
    "При работе с данными часто неудобно делать какие-то выводы, если смотреть на таблицу и числа в частности, поэтому важно уметь визуализировать данные. \n",
    "\n",
    "У matplotlib, конечно же, есть [документация](https://matplotlib.org/users/index.html) с большим количеством [примеров](https://matplotlib.org/examples/), но для начала достаточно знать про несколько основных типов графиков:\n",
    "- plot — обычный поточечный график, которым можно изображать кривые или отдельные точки;\n",
    "- hist — гистограмма, показывающая распределение некоторой величины;\n",
    "- scatter — график, показывающий взаимосвязь двух величин;\n",
    "- bar — столбцовый график, показывающий взаимосвязь количественной величины от категориальной.\n",
    "\n",
    "Ещё одна билиотека для визуализации: [seaborn](https://jakevdp.github.io/PythonDataScienceHandbook/04.14-visualization-with-seaborn.html). Это надстройка над matplotlib, иногда удобнее и красивее делать визуализации через неё. \n",
    "\n",
    "При выполнении этой лабораторной Вы столкнётесь с необходимостью рисовать большое количество графиков. Не забывайте про базовые принципы построения приличных графиков:\n",
    "- оси должны быть подписаны, причём не слишком мелко;\n",
    "- у графика должно быть название;\n",
    "- если изображено несколько графиков, то необходима поясняющая легенда;\n",
    "- для точек из разных выборок необходимо использовать разные цвета;\n",
    "- все линии на графиках должны быть чётко видны (нет похожих цветов или цветов, сливающихся с фоном);\n",
    "- если отображена величина, имеющая очевидный диапазон значений (например, проценты могут быть от 0 до 100), то желательно масштабировать ось на весь диапазон значений (исключением является случай, когда вам необходимо показать малое отличие, которое незаметно в таких масштабах).\n",
    "\n",
    "Помните, что проверяющий имеет право снизить оценку за неопрятные графики."
   ]
  },
  {
   "attachments": {},
   "cell_type": "markdown",
   "metadata": {
    "id": "3Ivj-lm0An7U"
   },
   "source": [
    "### Формат сдачи\n",
    "Задания сдаются через систему Anytask. Инвайт можно найти на странице курса. Присылать необходимо ноутбук с выполненным заданием. Сам ноутбук называйте в формате homework-practice-02-linregr-Username.ipynb, где Username — Ваша фамилия."
   ]
  },
  {
   "attachments": {},
   "cell_type": "markdown",
   "metadata": {
    "id": "sgYTlfJlAn7W"
   },
   "source": [
    "### Задание 1. Метод наименьших квадратов (3.1 баллов)\n",
    "\n",
    "**ВАЖНО! В этом задании вам нельзя использовать циклы (в том числе рекурсии, генераторы и конструкции вида map/reduce), кроме цикла в задании 1.5, который мы вам оставили. За наличие цикла в вашем коде мы поставим вам не более половины от стоимости задания.**"
   ]
  },
  {
   "attachments": {},
   "cell_type": "markdown",
   "metadata": {
    "id": "h_HVV2__An7W"
   },
   "source": [
    "Скачайте файлы ``train.txt`` и ``test.txt``. Каждый из файлов содержит два столбца чисел, разделённых пробелами: в первом — некоторое число точек (значения аргумента $x$), во втором — значения некоторой функции $y = f(x)$ в этих точках, искажённые случайным шумом. Функцию $f$ мы вам не скажем. Ваша задача — по данным из файла ``train.txt`` (будем называть их обучающей выборкой) подобрать функцию $y = g(x)$, пристойно приближающую неизвестную вам зависимость."
   ]
  },
  {
   "attachments": {},
   "cell_type": "markdown",
   "metadata": {
    "id": "qhI6CxL0An7Y"
   },
   "source": [
    "Загрузим обучающие и тестовые данные (из файла ``test.txt``)."
   ]
  },
  {
   "cell_type": "code",
   "execution_count": 73,
   "metadata": {
    "collapsed": true,
    "id": "ca7tXdbiAn7Z",
    "ExecuteTime": {
     "end_time": "2023-05-29T14:22:23.973962Z",
     "start_time": "2023-05-29T14:22:23.305643Z"
    }
   },
   "outputs": [],
   "source": [
    "import numpy as np\n",
    "from os.path import join\n",
    "import matplotlib.pyplot as plt\n",
    "\n",
    "PATH = \"./\" ### Вставить заглушку (не забудьте ввести правильный путь!)\n",
    "\n",
    "data_train = np.loadtxt(join(PATH, \"train.txt\"), delimiter=',')\n",
    "data_test = np.loadtxt(join(PATH, \"test.txt\"), delimiter=',')"
   ]
  },
  {
   "attachments": {},
   "cell_type": "markdown",
   "metadata": {
    "id": "k3GshOvnAn7b"
   },
   "source": [
    "**0. [0 баллов]** Разделим значения $x$ и $y$"
   ]
  },
  {
   "cell_type": "code",
   "execution_count": 74,
   "metadata": {
    "collapsed": true,
    "id": "1BIIDVGjAn7b",
    "ExecuteTime": {
     "end_time": "2023-05-29T14:22:24.156954Z",
     "start_time": "2023-05-29T14:22:23.321197Z"
    }
   },
   "outputs": [],
   "source": [
    "X_train = data_train[:,0]\n",
    "y_train = data_train[:,1]\n",
    "X_test = data_test[:,0]\n",
    "y_test = data_test[:,1]"
   ]
  },
  {
   "attachments": {},
   "cell_type": "markdown",
   "metadata": {
    "id": "PRLl0nkWAn7c"
   },
   "source": [
    "**1. [0,15 балла]** Найдите с помощью метода наименьших квадратов линейную функцию $y = kx + b$, наилучшим образом приближающую неизвестную зависимость. Полезные функции: ``numpy.ones(n)`` для создания массива из единиц длины $n$ и ``numpy.concatenate((А, В), axis=1)`` для слияния двух матриц по столбцам (пара ``А`` и ``В`` превращается в матрицу ``[A B]``). Напечатайте этот многочлен в виде $kx+b$."
   ]
  },
  {
   "cell_type": "code",
   "execution_count": 75,
   "metadata": {
    "id": "qTMuTy7IAn7d",
    "ExecuteTime": {
     "end_time": "2023-05-29T14:22:24.158459Z",
     "start_time": "2023-05-29T14:22:23.333724Z"
    }
   },
   "outputs": [
    {
     "name": "stdout",
     "output_type": "stream",
     "text": [
      "4.048356078106741x + 2.4539322330626554\n"
     ]
    }
   ],
   "source": [
    "n = X_train.shape[0]\n",
    "X = X_train.reshape((n, 1))\n",
    "free_col = np.ones(n).reshape((n, 1))\n",
    "X = np.concatenate((X, free_col), axis = 1)\n",
    "X_t = np.transpose(X)\n",
    "y = y_train.reshape((n, 1))\n",
    "cfs = np.matmul(np.linalg.inv(np.matmul(X_t, X)),np.matmul(X_t, y))\n",
    "print(\"{}x + {}\".format(cfs[0][0], cfs[1][0]))\n"
   ]
  },
  {
   "attachments": {},
   "cell_type": "markdown",
   "metadata": {
    "id": "Bnburua6An7e"
   },
   "source": [
    "**2. [0,15 балла]** Нарисуйте на плоскости точки $(x_i, y_i)$ из обеих выборок и полученную линейную функцию."
   ]
  },
  {
   "cell_type": "code",
   "execution_count": 76,
   "metadata": {
    "id": "Um_XtCIRAn7e",
    "ExecuteTime": {
     "end_time": "2023-05-29T14:22:24.180757Z",
     "start_time": "2023-05-29T14:22:23.348573Z"
    }
   },
   "outputs": [
    {
     "data": {
      "text/plain": "<Figure size 432x288 with 1 Axes>",
      "image/png": "[encoded data removed]"
     },
     "metadata": {
      "needs_background": "light"
     },
     "output_type": "display_data"
    }
   ],
   "source": [
    "X_line = np.array([min(X_train.min(), X_test.min()), max(X_train.max(), X_test.max())])\n",
    "y_line = np.array([cfs[0][0] * X_line[0] + cfs[1][0], cfs[0][0] * X_line[1] + cfs[1][0]])\n",
    "plt.plot(X_line, y_line, \"-m\", label = \"approximation\")\n",
    "plt.plot(X_train, y_train, \"bD\", label = \"train\")\n",
    "plt.plot(X_test, y_test, \"gD\", label = \"test\")\n",
    "plt.title(\"Приближение выборок линейной функцией\", fontsize = 12)\n",
    "plt.legend()\n",
    "plt.xlabel(\"x\")\n",
    "plt.ylabel(\"y\")\n",
    "plt.show()"
   ]
  },
  {
   "attachments": {},
   "cell_type": "markdown",
   "metadata": {
    "id": "crzpARViAn7f"
   },
   "source": [
    "**3. [0,4 балла]** Глядя на данные, подумайте, многочленом какой степени можно было бы лучше всего приблизить эту функцию с точки зрения минимизации среднеквадратичной ошибки на обучающей выборке. Найдите этот многочлен и сохраните его коэффициенты в массив `poly_coef` (от младшего члена к старшему). Обязательно обоснуйте выбор степени многочлена."
   ]
  },
  {
   "attachments": {},
   "cell_type": "markdown",
   "metadata": {},
   "source": [
    "**Комментарий:**\n",
    "\n",
    "Из замечательного (ага, да) курса по матанализу мы знаем, что многочлен минимальной степени, проходящий через n точек и имеющий стпень не более, чем n - 1 это интерполяционный многочлен Лагранжа. Если построить такой многочлен степени не более чем 23 - 1 = 22 мы можем добиться нулевой среднеквадратичной ошибки!"
   ]
  },
  {
   "cell_type": "code",
   "execution_count": 77,
   "metadata": {
    "id": "PSywLPifAn7g",
    "ExecuteTime": {
     "end_time": "2023-05-29T14:22:24.181008Z",
     "start_time": "2023-05-29T14:22:23.419063Z"
    }
   },
   "outputs": [
    {
     "name": "stdout",
     "output_type": "stream",
     "text": [
      "Количество точек в тренировочной выборке равно 23\n"
     ]
    }
   ],
   "source": [
    "print(\"Количество точек в тренировочной выборке равно {}\".format(n))"
   ]
  },
  {
   "cell_type": "code",
   "execution_count": 78,
   "metadata": {
    "ExecuteTime": {
     "end_time": "2023-05-29T14:22:24.181908Z",
     "start_time": "2023-05-29T14:22:23.423037Z"
    }
   },
   "outputs": [],
   "source": [
    "from numpy.polynomial.polynomial import Polynomial\n",
    "from scipy.interpolate import lagrange\n",
    "poly_coef = np.array(lagrange(X_train, y_train).coef)[::-1]"
   ]
  },
  {
   "attachments": {},
   "cell_type": "markdown",
   "metadata": {
    "id": "bVlu8GtRAn7h"
   },
   "source": [
    "**4. [0,15 балла]** Нарисуйте его график на одном чертеже вместе с точками $(x_i, y_i)$ из обеих выборок. Удалось ли графику пройти через все точки из выборки? Попробуйте объяснить, почему?"
   ]
  },
  {
   "cell_type": "code",
   "execution_count": 79,
   "metadata": {
    "id": "2EjDMWVQAn7i",
    "ExecuteTime": {
     "end_time": "2023-05-29T14:22:24.195094Z",
     "start_time": "2023-05-29T14:22:23.443876Z"
    }
   },
   "outputs": [
    {
     "data": {
      "text/plain": "<Figure size 1080x1080 with 1 Axes>",
      "image/png": "[encoded data removed]"
     },
     "metadata": {
      "needs_background": "light"
     },
     "output_type": "display_data"
    }
   ],
   "source": [
    "plt.figure(figsize=(15, 15))\n",
    "p = Polynomial(poly_coef)\n",
    "x_new = np.arange(min(X_train.min(), X_test.min()), max(X_train.max(), X_test.max()), 0.001)\n",
    "plt.plot(x_new, p(x_new), label='Lagrange approximation', c = \"m\")\n",
    "plt.plot(X_train, y_train, \"bD\", label = \"train\")\n",
    "plt.plot(X_test, y_test, \"gD\", label = \"test\")\n",
    "plt.title(\"Приближение многочленом Лагранжа\", fontsize = 15)\n",
    "plt.legend()\n",
    "plt.xlabel(\"x\")\n",
    "plt.ylabel(\"y\")\n",
    "plt.ylim([-4, 9])\n",
    "plt.show()"
   ]
  },
  {
   "attachments": {},
   "cell_type": "markdown",
   "metadata": {},
   "source": [
    "Комментарий:\n",
    "\n",
    "Как мы видим, нашему графику удалось пройти через все точки обучающей выборки, но в то же время он прошёл только через единичные точки из тестовой. "
   ]
  },
  {
   "attachments": {},
   "cell_type": "markdown",
   "metadata": {
    "id": "mlVLDqILAn7j"
   },
   "source": [
    "**5. [0,5 балла]** Для $k = 1,2,3,\\ldots,10$ найдите многочлен $\\hat{f}_k$ степени $k$, наилучшим образом приближающий неизвестную зависимость. Сохраните найденные коэффициенты многочленов в матрицу `poly_coefs` (коэффициенты многочлена степени $j$ должны быть сохранены в $j$-й строке матрицы от младшего члена к старшему)."
   ]
  },
  {
   "cell_type": "code",
   "execution_count": 80,
   "metadata": {
    "collapsed": true,
    "id": "_kz4i82kAn7j",
    "ExecuteTime": {
     "end_time": "2023-05-29T14:22:24.196291Z",
     "start_time": "2023-05-29T14:22:23.557175Z"
    }
   },
   "outputs": [],
   "source": [
    "poly_coefs = []\n",
    "for k in range(10):\n",
    "    X = X_train.reshape(n)\n",
    "    X = np.vander(X, k + 2)\n",
    "    X_t = np.transpose(X)\n",
    "    cfs = np.matmul(np.linalg.inv(np.matmul(X_t, X)),np.matmul(X_t, y))\n",
    "    zeroes = np.zeros(11 - cfs.shape[0])\n",
    "    cfs = np.concatenate((np.flip(cfs), zeroes), axis = None)\n",
    "    poly_coefs.append(cfs)\n",
    "poly_coefs = np.array(poly_coefs)\n",
    "# Простая проверка, что матрица poly_coefs имеет столько строк, сколько нужно\n",
    "assert poly_coefs.shape[0] == 10"
   ]
  },
  {
   "attachments": {},
   "cell_type": "markdown",
   "metadata": {
    "id": "XZm2UpUEAn7k"
   },
   "source": [
    "**6. [0,6 балл]** Для каждого из многочленов из задания 1.5, а также для многочлена из задания 1.4 найдите среднеквадратическую ошибку на обучающих данных и на тестовых данных: $\\frac1{n}\\sum_{i=1}^n\\left( \\hat{f}_k(x_i) - y_i \\right)^2$. Полученные значения ошибок сохраните в матрицу `es` высоты 11 и ширины 2. В первом столбце матрицы должны стоять значения ошибок на тренировочных данных, во втором --- на тестовых. В первых 10 строках матрицы должны стоять значения ошибок для многочленов соответствующих степений из задания 1.5, в 11-й строке --- значение ошибки для многочлена из задания 1.4."
   ]
  },
  {
   "cell_type": "code",
   "execution_count": 81,
   "metadata": {
    "id": "byyH4arFAn7k",
    "ExecuteTime": {
     "end_time": "2023-05-29T14:22:24.196491Z",
     "start_time": "2023-05-29T14:22:23.560669Z"
    }
   },
   "outputs": [],
   "source": [
    "def e(c_row, cur_x, cur_y):\n",
    "    p = Polynomial(c_row)\n",
    "    error = p(cur_x) - cur_y\n",
    "    return np.sum(error * error) / cur_x.shape[0]"
   ]
  },
  {
   "cell_type": "code",
   "execution_count": 82,
   "metadata": {
    "ExecuteTime": {
     "end_time": "2023-05-29T14:22:24.196657Z",
     "start_time": "2023-05-29T14:22:23.566777Z"
    }
   },
   "outputs": [
    {
     "name": "stdout",
     "output_type": "stream",
     "text": [
      "[[7.00912588e-01 1.64930169e+00]\n",
      " [6.91992919e-01 1.56859711e+00]\n",
      " [6.53662070e-01 1.48196170e+00]\n",
      " [4.52989800e-01 2.25266387e+00]\n",
      " [3.69973832e-01 2.41600793e+00]\n",
      " [3.69614394e-01 2.49195289e+00]\n",
      " [3.54844465e-01 3.18560667e+00]\n",
      " [3.52453365e-01 3.59296147e+00]\n",
      " [3.38277875e-01 5.26186318e+00]\n",
      " [3.32784411e-01 7.99284845e+00]\n",
      " [3.61387213e-10 6.65769422e+14]]\n"
     ]
    }
   ],
   "source": [
    "errors = np.array([[e(poly_coefs[0], X_train, y_train), e(poly_coefs[0], X_test, y_test)],\n",
    "                   [e(poly_coefs[1], X_train, y_train), e(poly_coefs[1], X_test, y_test)],\n",
    "                   [e(poly_coefs[2], X_train, y_train), e(poly_coefs[2], X_test, y_test)],\n",
    "                   [e(poly_coefs[3], X_train, y_train), e(poly_coefs[3], X_test, y_test)],\n",
    "                   [e(poly_coefs[4], X_train, y_train), e(poly_coefs[4], X_test, y_test)],\n",
    "                   [e(poly_coefs[5], X_train, y_train), e(poly_coefs[5], X_test, y_test)],\n",
    "                   [e(poly_coefs[6], X_train, y_train), e(poly_coefs[6], X_test, y_test)],\n",
    "                   [e(poly_coefs[7], X_train, y_train), e(poly_coefs[7], X_test, y_test)],\n",
    "                   [e(poly_coefs[8], X_train, y_train), e(poly_coefs[8], X_test, y_test)],\n",
    "                   [e(poly_coefs[9], X_train, y_train), e(poly_coefs[9], X_test, y_test)],\n",
    "                   [e(poly_coef, X_train, y_train), e(poly_coef, X_test, y_test)]])\n",
    "print(errors)"
   ]
  },
  {
   "attachments": {},
   "cell_type": "markdown",
   "metadata": {
    "id": "VKns2ndWAn7l"
   },
   "source": [
    "**7. [0,5 балла]** Для $k = 1,2,3,4,6$ нарисуйте графики полученных многочленов на одном чертеже вместе с точками $(x_i, y_i)$ из обеих выборок (возможно, график стоит сделать побольше; это делается командой `plt.figure(figsize=(width, height))`)."
   ]
  },
  {
   "cell_type": "code",
   "execution_count": 83,
   "metadata": {
    "id": "Vwt574k1An7m",
    "ExecuteTime": {
     "end_time": "2023-05-29T14:22:24.209217Z",
     "start_time": "2023-05-29T14:22:23.574166Z"
    }
   },
   "outputs": [
    {
     "data": {
      "text/plain": "<Figure size 1080x1080 with 1 Axes>",
      "image/png": "[encoded data removed]"
     },
     "metadata": {
      "needs_background": "light"
     },
     "output_type": "display_data"
    }
   ],
   "source": [
    "plt.figure(figsize=(15, 15))\n",
    "\n",
    "plt.plot(X_train, y_train, \"bD\", label = \"train\")\n",
    "plt.plot(X_test, y_test, \"gD\", label = \"test\")\n",
    "\n",
    "x_new = np.arange(min(X_train.min(), X_test.min()), max(X_train.max(), X_test.max()), 0.001)\n",
    "p = Polynomial(poly_coefs[0])\n",
    "y_new = p(x_new)\n",
    "plt.plot(x_new, y_new, \"#FC5A50\", label = \"k = 1\")\n",
    "\n",
    "p = Polynomial(poly_coefs[1])\n",
    "y_new = p(x_new)\n",
    "plt.plot(x_new, y_new, \"#00FF00\", label = \"k = 2\")\n",
    "\n",
    "p = Polynomial(poly_coefs[2])\n",
    "y_new = p(x_new)\n",
    "plt.plot(x_new, y_new, \"#030764\", label = \"k = 3\")\n",
    "\n",
    "p = Polynomial(poly_coefs[3])\n",
    "y_new = p(x_new)\n",
    "plt.plot(x_new, y_new, \"#380282\", label = \"k = 4\")\n",
    "\n",
    "p = Polynomial(poly_coefs[4])\n",
    "y_new = p(x_new)\n",
    "plt.plot(x_new, y_new, \"#FF0000\", label = \"k = 5\")\n",
    "\n",
    "p = Polynomial(poly_coefs[5])\n",
    "y_new = p(x_new)\n",
    "plt.plot(x_new, y_new, \"#04D8B2\", label = \"k = 6\")\n",
    "\n",
    "plt.legend()\n",
    "plt.title(\"Приближение многочленами разных степеней\")\n",
    "plt.xlabel('x')\n",
    "plt.ylabel('y')\n",
    "plt.ylim([-4, 9])\n",
    "plt.show()\n"
   ]
  },
  {
   "attachments": {},
   "cell_type": "markdown",
   "metadata": {
    "id": "YXMClHOOAn7n"
   },
   "source": [
    "**8. [0,65 балла]** Что происходит с ошибкой на тестовых данных при росте степени многочлена? Казалось бы, чем больше степень, тем более сложным будет многочлен и тем лучше он будет приближать нашу функцию. Подтверждают ли это ваши наблюдения? Как вам кажется, чем объясняется поведение ошибки на тестовых данных при $k = 10$? Как называется наблюдаемый вами эффект?"
   ]
  },
  {
   "cell_type": "code",
   "execution_count": 84,
   "metadata": {
    "id": "-6rGUQMqAn7n",
    "ExecuteTime": {
     "end_time": "2023-05-29T14:22:24.221272Z",
     "start_time": "2023-05-29T14:22:23.701543Z"
    }
   },
   "outputs": [
    {
     "data": {
      "text/plain": "<Figure size 432x288 with 1 Axes>",
      "image/png": "[encoded data removed]"
     },
     "metadata": {
      "needs_background": "light"
     },
     "output_type": "display_data"
    }
   ],
   "source": [
    "x_new = np.arange(1, 11, 1)\n",
    "plt.plot(x_new, errors[:,1][:10], \"-m\")\n",
    "plt.title(\"Зависимость среднеквадратичной ошибки от k\")\n",
    "plt.xlabel(\"k\")\n",
    "plt.ylabel(\"Cреднеквадратичная ошибка\")\n",
    "plt.show()"
   ]
  },
  {
   "attachments": {},
   "cell_type": "markdown",
   "metadata": {},
   "source": [
    "**Комментарий:**\n",
    "\n",
    "Как мы видим зависимость величины ошибки от k получилась даже не монотонная, своего минимума она достигает при k = 3, а дальше растёт с увеличением k. Данный эффект в ML называет переобучением: \"...построенная модель хорошо объясняет примеры из обучающей выборки, но относительно плохо работает на примерах, не участвовавших в обучении (на примерах из тестовой выборки).\""
   ]
  },
  {
   "attachments": {},
   "cell_type": "markdown",
   "metadata": {},
   "source": [
    "## Часть 2: Обучаем машины"
   ]
  },
  {
   "attachments": {},
   "cell_type": "markdown",
   "metadata": {
    "id": "KFN99QhUAn7o"
   },
   "source": [
    "### Задание 2. Линейная регрессия (3 балла)"
   ]
  },
  {
   "attachments": {},
   "cell_type": "markdown",
   "metadata": {
    "id": "EIPGe5d0JSgq"
   },
   "source": [
    "В этом задании вам предстоит заняться предсказанием цен на алмазы. Скачайте файл `diamonds_features.csv`, содержащий данные, с которыми вам предстоит работать. Запустите следующую ячейку:"
   ]
  },
  {
   "cell_type": "code",
   "execution_count": 85,
   "metadata": {
    "id": "8_G9QdO6PdP4",
    "ExecuteTime": {
     "end_time": "2023-05-29T14:22:24.237340Z",
     "start_time": "2023-05-29T14:22:23.757645Z"
    }
   },
   "outputs": [
    {
     "name": "stdout",
     "output_type": "stream",
     "text": [
      "[['0.8' 'Ideal' 'F' 'VS1' '62.4' '55.0' '5.92' '5.88' '3.68' '3884']\n",
      " ['0.91' 'Premium' 'F' 'SI2' '61.4' '60.0' '6.23' '6.21' '3.82' '3618']\n",
      " ['1.28' 'Premium' 'I' 'VS2' '61.7' '60.0' '7.05' '6.95' '4.32' '6762']\n",
      " ['0.41' 'Very Good' 'F' 'SI1' '61.9' '55.0' '4.78' '4.81' '2.97' '769']\n",
      " ['1.07' 'Premium' 'F' 'SI2' '61.8' '59.0' '6.53' '6.57' '4.05' '4560']]\n"
     ]
    }
   ],
   "source": [
    "data = np.loadtxt(\"diamonds_features.csv\", delimiter=\",\", dtype=\"str\")[1:, :]\n",
    "print(data[:5, :])"
   ]
  },
  {
   "attachments": {},
   "cell_type": "markdown",
   "metadata": {
    "id": "ghn2xvL5P8BK"
   },
   "source": [
    "Мы вывели для вас первые 5 строчек данных. Описания значений в колонках вы можете найти в файле `diamonds_descriptions.txt`.\n",
    "\n",
    "Глобально в этом задании вам предстоит научиться строить модель линейной регрессии для предсказания цены алмаза по его признакам. Данные устроены таким образом, что в каждой строчке располагаются признаки, описывающие объект (алмаз), а в каждой фиксированной колонке --- всевозможные значения конкретного признака для всех объектов в данных."
   ]
  },
  {
   "attachments": {},
   "cell_type": "markdown",
   "metadata": {
    "id": "fJEFOEpJAn7p"
   },
   "source": [
    "**0. [0 баллов]** Разделите выборку на обучающую и тестовую. Делать это лучше случайным образом (ведь вы не знаете, как создатели датасета упорядочили объекты); рекомендуем вам для этого функцию [sklearn.model_selection.train_test_split](https://scikit-learn.org/stable/modules/generated/sklearn.model_selection.train_test_split.html) с параметром `test_size=0.3`. Обязательно зафиксируйте параметр `random_state`."
   ]
  },
  {
   "cell_type": "code",
   "execution_count": 86,
   "metadata": {
    "id": "RoFzvGRBAn7q",
    "ExecuteTime": {
     "end_time": "2023-05-29T14:22:24.237552Z",
     "start_time": "2023-05-29T14:22:24.029630Z"
    }
   },
   "outputs": [],
   "source": [
    "from sklearn.model_selection import train_test_split\n",
    "X_train, X_test, y_train, y_test = train_test_split(data[:,:-1], data[:,-1], test_size=0.3, random_state=21)"
   ]
  },
  {
   "attachments": {},
   "cell_type": "markdown",
   "metadata": {
    "id": "dVO-0MsaTXXT"
   },
   "source": [
    "Теперь у вас есть две выборки, каждая из которых содержит случайное подмножество наших данных. Обучающую выборку мы в дальнейшем будем использовать для обучения модели линейной регрессии, а тестовую, соответственно, для теста.\n",
    "\n",
    "**ВАЖНО: за обучение модели на тестовой выборке будем ставить 0 за весь пункт!**"
   ]
  },
  {
   "attachments": {},
   "cell_type": "markdown",
   "metadata": {
    "id": "JEQLiBg-_zfK"
   },
   "source": [
    "### Работаем с числовыми данными"
   ]
  },
  {
   "attachments": {},
   "cell_type": "markdown",
   "metadata": {
    "id": "bHSfXGDeC0b1"
   },
   "source": [
    "Сейчас ваши данные содержат как привычные вам числовые признаки, описывающие объект, так и категориальные признаки, которые описывают принадлежность объекта к той или иной категории, и в данных представляются строками. Что делать с данными, которые представлены строками --- мы разберёмся чуть позже, а пока давайте забудем, что они у нас есть, и будем работать только с числовыми."
   ]
  },
  {
   "attachments": {},
   "cell_type": "markdown",
   "metadata": {
    "id": "KGGUh0UBEHSG"
   },
   "source": [
    "**0,5. [0 баллов]** Заполните переменные `numeric_features` и `categorical_features` индексами столбцов в данных, содержащих числовые и категориальные признаки соответственно. После этого можно проверить, что массив `data[:, numeric_features]` содержит только числовые данные."
   ]
  },
  {
   "cell_type": "code",
   "execution_count": 87,
   "metadata": {
    "id": "kZWCocxzE-dv",
    "ExecuteTime": {
     "end_time": "2023-05-29T14:22:24.237725Z",
     "start_time": "2023-05-29T14:22:24.039315Z"
    }
   },
   "outputs": [
    {
     "name": "stdout",
     "output_type": "stream",
     "text": [
      "[['0.8' '62.4' '55.0' '5.92' '5.88' '3.68']\n",
      " ['0.91' '61.4' '60.0' '6.23' '6.21' '3.82']\n",
      " ['1.28' '61.7' '60.0' '7.05' '6.95' '4.32']\n",
      " ...\n",
      " ['0.31' '61.4' '56.0' '4.38' '4.41' '2.7']\n",
      " ['0.36' '62.0' '59.0' '4.56' '4.51' '2.81']\n",
      " ['0.31' '59.0' '62.0' '4.41' '4.43' '2.61']]\n"
     ]
    }
   ],
   "source": [
    "# ╰( ͡° ͜ʖ ͡° )つ──☆*:・ﾟ\n",
    "numeric_features = [0, 4, 5, 6, 7, 8]\n",
    "categorical_features = [1, 2, 3]\n",
    "print(data[:, numeric_features])"
   ]
  },
  {
   "attachments": {},
   "cell_type": "markdown",
   "metadata": {
    "id": "Fiqc6nBwFVpP"
   },
   "source": [
    "**1. [0,3 баллов]** Решите задачу линейной регрессии для предсказания цены алмаза по его числовым признакам (не забудьте, что линейная модель должна также содержать свободный от признаков член) и протестируйте ваше решение на тестовых данных. Выведите полученные регрессионные коэффициенты для каждого признака. Попробуйте проинтерпретировать полученные коэффициенты: сравните их друг с другом, посмотрите на их знаки и на абсолютную величину и попробуйте на основе этого придать им житейский смысл. Согласуется ли построенная интерпретация модели с вашими представлениями о жизни? \n",
    "\n",
    "*Примечание: обратите внимание, сейчас все данные у вас хранятся в строковом виде. Чтобы работать с ними как с числами, необоходимо явно привести их к типу float. В NumPy для этого есть специальная удобная команда astype.*"
   ]
  },
  {
   "cell_type": "code",
   "execution_count": 88,
   "metadata": {
    "id": "Q-rpxCQLH1VY",
    "ExecuteTime": {
     "end_time": "2023-05-29T14:22:24.247138Z",
     "start_time": "2023-05-29T14:22:24.062086Z"
    }
   },
   "outputs": [
    {
     "name": "stdout",
     "output_type": "stream",
     "text": [
      "2224541.553367063\n",
      "Коэффициенты:\n",
      "[[ 1.08996402e+04]\n",
      " [-2.28587377e+02]\n",
      " [-1.04087808e+02]\n",
      " [-1.55114592e+03]\n",
      " [-1.32479022e+00]\n",
      " [ 4.00366199e+02]\n",
      " [ 2.28114652e+04]]\n"
     ]
    }
   ],
   "source": [
    "from sklearn.metrics import mean_squared_error\n",
    "n_train, n_test = X_train.shape[0], X_test.shape[0]\n",
    "y_train = y_train.astype(float).reshape((n_train, 1))\n",
    "y_test = y_test.astype(float).reshape((n_test, 1))\n",
    "X_tr = np.concatenate((X_train[:, numeric_features].astype(float), np.ones((n_train, 1))), axis=1)\n",
    "X_tr_t = np.transpose(X_tr)\n",
    "cfs_train = np.matmul(np.linalg.inv(np.matmul(X_tr_t, X_tr)), np.matmul(X_tr_t, y_train))\n",
    "predicted_price_train = np.matmul(X_tr, cfs_train)\n",
    "\n",
    "X_ts = np.concatenate((X_test[:, numeric_features].astype(float), np.ones((n_test, 1))), axis=1)\n",
    "predicted_price_test = np.matmul(X_ts, cfs_train)\n",
    "\n",
    "print(mean_squared_error(predicted_price_test, y_test))\n",
    "\n",
    "print(\"Коэффициенты:\")\n",
    "print(cfs_train)"
   ]
  },
  {
   "attachments": {},
   "cell_type": "markdown",
   "metadata": {
    "id": "Se87BnStIAOK"
   },
   "source": [
    "**Комментарий:**\n",
    "\n",
    "Коэффициенты действительно получились довольно большие по абсолютной величине, в частности первых из них (\"carat\"). Это в целом соотносится с реальной жизнью (поскольку изменение значения массы алмаза значительно влияет на цену)."
   ]
  },
  {
   "attachments": {},
   "cell_type": "markdown",
   "metadata": {
    "id": "6uGLZR-0TxaP"
   },
   "source": [
    "Если вы всё сделали правильно, у вас должны были получиться довольно большие по абсолютной величине коэффициенты."
   ]
  },
  {
   "attachments": {},
   "cell_type": "markdown",
   "metadata": {
    "id": "58iMlV0TUHHz"
   },
   "source": [
    "**2. [0,15 баллов]** Попробуйте объяснить, почему ситуация, когда модель имеет большие по модулю коэффиценты, нежелательна?\n",
    "\n",
    "Подсказка: Вы можете попытаться проиллюстрировать свои рассуждения, искусственно описав с помощью исследуемых признаков два алмаза, которые по вашему мнению должны иметь одинаковую цену, и проверить, выдаст ли построенная модель близкие предсказания на этих объектах."
   ]
  },
  {
   "attachments": {},
   "cell_type": "markdown",
   "metadata": {
    "id": "a3oKgoUjWiem"
   },
   "source": [
    "**Комментарий:**\n",
    "\n",
    "Здесь все довольно просто: при больших коэффициентах даже два алмаза с приблизительно одинаковыми признаками могут существенно отличаться в цене (т.е. будем наблюдать нежелательные сильные колебания предсказываемой цены при незначительных изменениях значений признаков)."
   ]
  },
  {
   "attachments": {},
   "cell_type": "markdown",
   "metadata": {
    "id": "ycsEn6t9nwLB"
   },
   "source": [
    "**3. [0.2 баллов]** Нарисуйте гистограмму, характеризующую распределение объясняемой переменной в обучающей выборке. На такой диаграмме по оси `x` должны быть сгруппированные значения объясняемой переменной, а по оси `y` --- количество объектов выборки с таким значением. Столбцов на вашем графике должно быть не менее 50."
   ]
  },
  {
   "cell_type": "code",
   "execution_count": 89,
   "metadata": {
    "id": "itrJbGIl-I9Q",
    "ExecuteTime": {
     "end_time": "2023-05-29T14:22:24.406010Z",
     "start_time": "2023-05-29T14:22:24.151344Z"
    }
   },
   "outputs": [
    {
     "data": {
      "text/plain": "<Figure size 432x288 with 1 Axes>",
      "image/png": "[encoded data removed]"
     },
     "metadata": {
      "needs_background": "light"
     },
     "output_type": "display_data"
    }
   ],
   "source": [
    "plt.hist(y_train, 60)\n",
    "plt.title(\"Распределение цены в обучающей выборке\")\n",
    "plt.xlabel(\"Значение цены\")\n",
    "plt.ylabel(\"Кол-во объектов выборки\")\n",
    "plt.show()"
   ]
  },
  {
   "attachments": {},
   "cell_type": "markdown",
   "metadata": {
    "id": "SEvOIN0DQyhZ"
   },
   "source": [
    "В левой части гистограммы располагаются небольшие значения целевой переменной, и объектов с таким значением в выборке довольно много (не забываем, что у нас тут не абстрактная математика в вакууме, мы тут цену алмазов предсказываем!); с увеличением значения таргета (целевой переменной) количество соответствующих объектов в выборке убывает. Сначала число объектов убывает довольно стремительно, но с некоторого момента разница в высоте между соседними столбцами уже почти незаметна. Такое явление называется \"распределение с тяжёлым хвостом\", и оно не очень желательно при построении модели."
   ]
  },
  {
   "attachments": {},
   "cell_type": "markdown",
   "metadata": {
    "id": "PO37Qg7BTyqw"
   },
   "source": [
    "Попробуем избавиться от тяжёлого хвоста. Для этого нужно применить к таргету какую-нибудь медленнорастущую биективную функцию, например логарифм. \n",
    "\n",
    "<!-- Однако вспомним, что мы намеренно отмасштабировали таргет таким образом, чтобы среди его значений был 0, поэтому нужно придумать ещё какое-то преобразование, чтобы все значения целевой переменной попали в область определения логарифма. -->"
   ]
  },
  {
   "attachments": {},
   "cell_type": "markdown",
   "metadata": {
    "id": "nXb63LraZaCL"
   },
   "source": [
    "**4. [0,25 баллов]** Прологарифмируйте целевую переменную и нарисуйте график распределения логарифмированного таргета. Сильно ли он отличается от предыдущего графика? Попробуйте объяснить, почему явление \"распределения с тяжёлым хвостом\" нежелательно при построении модели."
   ]
  },
  {
   "cell_type": "code",
   "execution_count": 90,
   "metadata": {
    "id": "AdgFVEebZwPT",
    "ExecuteTime": {
     "end_time": "2023-05-29T14:22:24.427465Z",
     "start_time": "2023-05-29T14:22:24.280393Z"
    }
   },
   "outputs": [
    {
     "data": {
      "text/plain": "<Figure size 432x288 with 1 Axes>",
      "image/png": "[encoded data removed]"
     },
     "metadata": {
      "needs_background": "light"
     },
     "output_type": "display_data"
    }
   ],
   "source": [
    "y_log = np.log(y_train)\n",
    "plt.hist(y_log, 60)\n",
    "plt.title(\"Распределение цены в обучающей выборке\")\n",
    "plt.xlabel(\"Значение цены\")\n",
    "plt.ylabel(\"Кол-во объектов выборки\")\n",
    "plt.show()\n"
   ]
  },
  {
   "attachments": {},
   "cell_type": "markdown",
   "metadata": {
    "id": "jrlDuorpEiU8"
   },
   "source": [
    "**Комментарий:**\n",
    "\n",
    "Стуктурно получившийся график не сильно отличается от предыдущего (все так же заметно больше значений с небольшими значениями логарифмического таргета, однако \"тяжелый хвост\" стал меньше, но все ещё немного заметен).\n",
    "\n",
    "Распределение с тяжёлым хвостом нежелательно при построении модели, поскольку модель будет чаще выдавать небольшие ответы (так как их количественно больше)."
   ]
  },
  {
   "attachments": {},
   "cell_type": "markdown",
   "metadata": {
    "id": "Ty0T3kk5EiZ-"
   },
   "source": [
    "Снова обучите линейную модель, считая целевой переменной логарифмированный таргет. Помните, что чтобы протестировать полученную линейную модель, важно взять экспоненту от полученных предсказаний."
   ]
  },
  {
   "cell_type": "code",
   "execution_count": 91,
   "metadata": {
    "id": "NbWAprptKEt0",
    "ExecuteTime": {
     "end_time": "2023-05-29T14:22:24.427806Z",
     "start_time": "2023-05-29T14:22:24.400468Z"
    }
   },
   "outputs": [
    {
     "name": "stdout",
     "output_type": "stream",
     "text": [
      "511294080.5519077\n"
     ]
    }
   ],
   "source": [
    "y_train_log = np.log(y_train)\n",
    "y_test_log = np.log(y_test)\n",
    "log_cfs_train = np.matmul(np.linalg.inv(np.matmul(X_tr_t, X_tr)), np.matmul(X_tr_t, y_train_log))\n",
    "log_predicted_price_train = np.matmul(X_tr, log_cfs_train)\n",
    "\n",
    "log_predicted_price_test = np.matmul(X_ts, log_cfs_train)\n",
    "\n",
    "print(mean_squared_error(np.exp(log_predicted_price_test), y_test))"
   ]
  },
  {
   "attachments": {},
   "cell_type": "markdown",
   "metadata": {
    "id": "zugn9a3fE8nb"
   },
   "source": [
    "Ответ: Нет, качество только ухудшилось 🤡 🤡 🤡"
   ]
  },
  {
   "attachments": {},
   "cell_type": "markdown",
   "metadata": {
    "id": "NHn1U5xJaPVH"
   },
   "source": [
    "### Работаем с категориальными признаками"
   ]
  },
  {
   "attachments": {},
   "cell_type": "markdown",
   "metadata": {
    "id": "_CLrKbkJdK2b"
   },
   "source": [
    "До сих пор мы работали с данными, которые представляются числами. Однако часто в датасетах объекты описываются не только признаками, содержащими числа, но и строковыми признаками, определяющими принадлежность объекта к некоторой категории. Такие признаки называются категориальными. Важно не выкидывать их из модели, потому что часто они содержат довольно полезную информацию об объекте, которую хорошая модель должна обязательно учитывать.\n",
    "\n",
    "В этом разделе мы будем рассматривать только категориальные признаки, временно забыв про числовые.\n",
    "\n",
    "Естесственно, нам нужно придумать, как закодировать категориальные признаки числами. Есть довольно много подходов к такой кодировке, но мы рассмотрим два самых базовых. Первая мысль, которая приходит в голову такая: давайте занумеруем все категории фиксированного признака, и заменим их строковое представление соответствующим численным."
   ]
  },
  {
   "attachments": {},
   "cell_type": "markdown",
   "metadata": {
    "collapsed": true,
    "id": "Zh1vygTdAn7u"
   },
   "source": [
    "**5. [0,3 баллов]** Реализуйте описанную выше процедуру кодирования для всех категориальных признаков в выборке. Вы можете сделать это самостоятельно, а можете разобраться в классе `OrdinalEncoder` библиотеки `sklearn`. Обучите линейную модель на закодированных категориальных признаках и протестируйте. "
   ]
  },
  {
   "cell_type": "code",
   "execution_count": 92,
   "metadata": {
    "id": "FETTkQQGo_-P",
    "ExecuteTime": {
     "end_time": "2023-05-29T14:22:24.541505Z",
     "start_time": "2023-05-29T14:22:24.427062Z"
    }
   },
   "outputs": [
    {
     "name": "stdout",
     "output_type": "stream",
     "text": [
      "18349284.933034774\n"
     ]
    }
   ],
   "source": [
    "from sklearn.preprocessing import OrdinalEncoder, OneHotEncoder\n",
    "cut = [\"Fair\", \"Good\", \"Very Good\", \"Premium\", \"Ideal\"]\n",
    "color = ['J', 'I', 'H', 'G', 'F', 'E', 'D']\n",
    "clarity = [\"I1\", \"SI2\", \"SI1\", \"VS2\", \"VS1\", \"VVS2\", \"VVS1\", \"IF\"]\n",
    "enc = OrdinalEncoder(categories = [cut, color, clarity])\n",
    "enc.fit(X_train[:,categorical_features])\n",
    "X_enc_tr = enc.transform(X_train[:, categorical_features])\n",
    "X_enc_tr_t = np.transpose(X_enc_tr)\n",
    "enc_cfs_train = np.matmul(np.linalg.inv(np.matmul(X_enc_tr_t, X_enc_tr)), np.matmul(X_enc_tr_t, y_train))\n",
    "enc_predicted_price_train = np.matmul(X_enc_tr, enc_cfs_train)\n",
    "\n",
    "enc.fit(X_test[:,categorical_features])\n",
    "X_enc_ts = enc.transform(X_test[:, categorical_features])\n",
    "enc_predicted_price_test = np.matmul(X_enc_ts, enc_cfs_train)\n",
    "\n",
    "print(mean_squared_error(enc_predicted_price_test, y_test))"
   ]
  },
  {
   "attachments": {},
   "cell_type": "markdown",
   "metadata": {
    "id": "9O9CmAifpAJK"
   },
   "source": [
    "Подумайте, в чём потенциальные проблемы такого кодирования? (Подсказка: пусть изначально мы закодировали категорию A числом 1, а категорию B числом 2, а потом решили сделать наоборот: A <-> 2, B <-> 1. Подумайте, может ли измениться качество модели? А должно ли?)"
   ]
  },
  {
   "attachments": {},
   "cell_type": "markdown",
   "metadata": {
    "id": "ZBkiDk5qqtSk"
   },
   "source": [
    "**Комментарий:**\n",
    "\n",
    "Такой способ не очень хорош, потому что если, например, объектов категории А намного больше, чем объектов B, то после замены A <-> 2, B <-> 1 качество в разы увеличится - это при том, что сами признаки никак не поменялись, мы их только переименовали. Поэтому так мы делать не хотим.\n"
   ]
  },
  {
   "attachments": {},
   "cell_type": "markdown",
   "metadata": {
    "id": "3NY2scS1rAuU"
   },
   "source": [
    "Теперь давайте попробуем исправить недочёты такого способа кодирования категориальных признаков, придумав другой метод. Пусть некоторый признак имеет 4 различные категории: {A, B, C, D}. Заменим этот признак на 4 бинарных признака. Каждый из новых признаков будет являться индикатором одной из этих четырёх категорий: если некоторый объект имел категорию A, то после нашего кодирования значение признака, соответствующего категории А у этого объекта будет равно $1$, а значения оставшихся трёх признаков будут $0$. Небольшая иллюстрация: пусть так выглядела выборка до кодирования\n",
    "\n",
    "| Объект | Признак |\n",
    "| :----------:|:-:|\n",
    "| X | \"B\" |\n",
    "| Y | \"D\" |\n",
    "\n",
    "А так будет выглядеть после кодирования:\n",
    "\n",
    "| Объект | Признак == \"A\" | Признак == \"B\" | Признак == \"C\" | Признак == \"D\" |\n",
    "| :----------:|:-:|:-:|:-:|:-:|\n",
    "| X | 0 | 1 | 0 | 0 |\n",
    "| Y | 0 | 0 | 0 | 1 |\n"
   ]
  },
  {
   "attachments": {},
   "cell_type": "markdown",
   "metadata": {
    "id": "U_VHgVKjtpwr"
   },
   "source": [
    "**6. [0,3 баллов]** Реализуйте описанную выше процедуру кодирования для всех категориальных признаков в выборке. Вы можете сделать это самостоятельно, а можете разобраться в классе `OneHotEncoder` библиотеки `sklearn`. Обучите линейную модель на закодированных категориальных признаках и протестируйте. "
   ]
  },
  {
   "cell_type": "code",
   "execution_count": 93,
   "metadata": {
    "id": "2Rrs69UxtyvR",
    "ExecuteTime": {
     "end_time": "2023-05-29T14:22:24.650761Z",
     "start_time": "2023-05-29T14:22:24.545385Z"
    }
   },
   "outputs": [
    {
     "name": "stdout",
     "output_type": "stream",
     "text": [
      "317312614.04961157\n"
     ]
    }
   ],
   "source": [
    "hot_enc = OneHotEncoder()\n",
    "hot_enc.fit(X_train[:,categorical_features])\n",
    "X_enc_tr = hot_enc.transform(X_train[:, categorical_features]).toarray()\n",
    "X_enc_tr_t = np.transpose(X_enc_tr)\n",
    "enc_cfs_train = np.matmul(np.linalg.inv(np.matmul(X_enc_tr_t, X_enc_tr)), np.matmul(X_enc_tr_t, y_train))\n",
    "enc_predicted_price_train = np.matmul(X_enc_tr, enc_cfs_train)\n",
    "\n",
    "hot_enc.fit(X_test[:,categorical_features])\n",
    "X_enc_ts = hot_enc.transform(X_test[:, categorical_features]).toarray()\n",
    "enc_predicted_price_test = np.matmul(X_enc_ts, enc_cfs_train)\n",
    "\n",
    "print(mean_squared_error(enc_predicted_price_test, y_test))\n"
   ]
  },
  {
   "attachments": {},
   "cell_type": "markdown",
   "metadata": {
    "id": "rSOmE1iLty7n"
   },
   "source": [
    "Подумайте, в чём потенциальные проблемы такого кодирования? Какие недочёты прошлого метода кодирования исправляет предложенный способ? Какие недочёты есть у этого метода кодирования, которых нет у предыдущего? Который из двух методов выдаёт лучшее качество?"
   ]
  },
  {
   "attachments": {},
   "cell_type": "markdown",
   "metadata": {
    "id": "8grwr0ZBuIgq"
   },
   "source": [
    "Комментарий:\n",
    "\n",
    "Здесь не будет такой проблемы, как с предыдущим подходом, так как нет \"сортировки\" признаков, и они кодируются симметрично. Однако необходимо большое количество булевых переменных, так как некоторые признаки могут иметь много категорий. В нашем случае, например, потребуется 5 + 7 + 8 = 20 булевых переменных (а может быть в разы больше). Поэтому этот подход может быть не таким эффективным."
   ]
  },
  {
   "attachments": {},
   "cell_type": "markdown",
   "metadata": {
    "id": "IBEMSIfuzoGJ"
   },
   "source": [
    "**7. [0,5 баллов]** Обучите линейную модель на всех данных, выполнив все необходимые преобразования. Постарайтесь добиться меньшей ошибки модели, чем во всех предыдущих заданиях."
   ]
  },
  {
   "cell_type": "code",
   "execution_count": 94,
   "metadata": {
    "id": "HiXPa1UcQYje",
    "ExecuteTime": {
     "end_time": "2023-05-29T14:22:24.874410Z",
     "start_time": "2023-05-29T14:22:24.651001Z"
    }
   },
   "outputs": [
    {
     "name": "stdout",
     "output_type": "stream",
     "text": [
      "1449664.7230582174\n"
     ]
    }
   ],
   "source": [
    "new_enc = OrdinalEncoder(categories = [cut, color, clarity])\n",
    "new_enc.fit(X_train[:,categorical_features])\n",
    "full_X_train = np.concatenate((new_enc.transform(X_train[:, categorical_features]), X_train[:, numeric_features].astype(float)), axis=1)\n",
    "full_X_train = np.concatenate((full_X_train, np.ones((full_X_train.shape[0], 1))), axis=1)\n",
    "full_X_train_t = np.transpose(full_X_train)\n",
    "cfs_train_full = np.matmul(np.linalg.inv(np.matmul(full_X_train_t, full_X_train)), np.matmul(full_X_train_t, y_train))\n",
    "\n",
    "new_enc.fit(X_test[:,categorical_features])\n",
    "full_X_test = np.concatenate((new_enc.transform(X_test[:, categorical_features]), X_test[:, numeric_features].astype(float)), axis=1)\n",
    "full_X_test = np.concatenate((full_X_test, np.ones((full_X_test.shape[0], 1))), axis=1)\n",
    "\n",
    "predicted_price_test_full = np.matmul(full_X_test, cfs_train_full)\n",
    "\n",
    "print(mean_squared_error(predicted_price_test_full, y_test))"
   ]
  },
  {
   "attachments": {},
   "cell_type": "markdown",
   "metadata": {
    "id": "TOt1HIMMg0nu"
   },
   "source": [
    "### Feature engineering"
   ]
  },
  {
   "attachments": {},
   "cell_type": "markdown",
   "metadata": {
    "id": "Ua8Hc_I2NdE8"
   },
   "source": [
    "#### Описание задания.\n",
    "\n",
    "В рамках этого задания вам предстоит улучшить модель и сделать предсказания на выборке из файла `diamonds_test.csv`, ответов к которой мы вам не дадим. Полученные предсказания вам нужно будет сдать в соревнование на сайте [kaggle.com](https://www.kaggle.com/t/ab100672935c4637b340a6430a5d0c4e). Подробнее о том, как сдавать предсказания, написано в конце раздела. Разумеется, чтобы иметь возможность сдать предсказания, вам нужно быть зарегистрированными на сайте. \n",
    "\n",
    "Оценка за задание рассчитывается исходя из ошибки полученных вами предсказаний и состоит из базовой части и бонусных баллов. Базовая часть оценки определяется следующими пороговыми значениями качества:\n",
    "\n",
    "*   MSE $\\leq 1950000$ ---- 0,25 балла\n",
    "*   MSE $\\leq 1370000$ ---- 0,5 балла\n",
    "*   MSE $\\leq 1280000$ ---- 0,75 балла\n",
    "*   MSE $\\leq 1170000$ ---- 1 балл\n",
    "\n",
    "Если ваша модель выдаёт качество сильно лучше, чем требуется в пороге на 1 балл, то вы можете претендовать на бонусные баллы, приняв участие в полноценном соревновании, смысл которого в том, чтобы получить качество как можно лучше (добиться наименьшей возможной ошибки). \n",
    "\n",
    "Если вы хотите поучаствовать, то просто продолжайте улучшать вашу модель и сдавать предсказания в соревнование. Бонусные баллы будут рассчитываться на основе ошибки полученных вами предсказаний и вашей позиции в лидерборде соревнования. Как именно будет рассчитываться оценка --- мы вам сообщим после завершения соревнования. Точно можем сказать, что наибольшее число баллов за задание получит только один студент --- тот, кто будет находиться на первой позиции в лидерборде на момент дедлайна. Человек на следующем месте уже получит немного меньше, следующий --- ещё меньше, и так далее. Каждый студент, качество предсказаний которого хоть немного лучше нашего порога на 1 балл, обязательно получит бонусные баллы.\n",
    "\n",
    "Чтобы подтвердить своё участие в соревновании, вам нужно будет сдать вашу модель вместе с лабораторной (лучше в отдельном файле, но можно её и прямо здесь написать).\n",
    "\n",
    "**Максимум бонусных баллов за задание: 3**"
   ]
  },
  {
   "attachments": {},
   "cell_type": "markdown",
   "metadata": {
    "id": "esBQkVIY25zH"
   },
   "source": [
    "\n",
    "\n",
    "---\n",
    "\n"
   ]
  },
  {
   "attachments": {},
   "cell_type": "markdown",
   "metadata": {
    "id": "ujFRVw0_focC"
   },
   "source": [
    "В оставшейся части данного раздела приводятся несколько заданий, за выполнение котороых вы не получите баллов. Эти задания даны специально, чтобы вы посмотрели, какие есть идеи для дальнейшего улучшения модели.  Разумеется, мы не требуем от вас, чтобы ваша финальная модель следовала указаниям из этих заданий --- вы можете вообще не выполнять ни одного задания отсюда, оцениваться будут только сданные вами предсказания.\n",
    "\n",
    "\n",
    "\n"
   ]
  },
  {
   "attachments": {},
   "cell_type": "markdown",
   "metadata": {
    "id": "Qa714bBHg8_B"
   },
   "source": [
    "До сих пор мы только исследовали вопрос, как подготовить признаки из датасета, чтобы модель могла на их основе делать какие-то предсказания. При этом до сих пор мы никак не учитывали специфичность задачи: действительно, до этого момента нас интересовало только то, является ли признак числовым или категориальным, мы никак не учитывали физический смысл признаков. Однако часто датасеты предоставляют лишь самую общую информацию об объектах: признаки, которые легко измерить и запомнить. В таком случае при анализе данных нужно выдумывать собственные признаки, которые некоторым образом зависят от уже представленных в датасете признаков и **ни в коем случае не зависят от объясняемой переменной**.\n",
    "\n",
    "В общем случае процесс придумывания новых признаков довольно творческий. Есть, конечно, некоторые более-менее общие подходы, позволяющие улучшить качество модели путём добавления новых признаков, но часто аналитики придумывают признаки, основываясь не только на известных эвристиках, но и на собственном представлении о жизни.\n",
    "\n",
    "Давайте теперь поисследуем наши данные и подумаем, какие признаки можно добавить, чтобы улучшить модель."
   ]
  },
  {
   "attachments": {},
   "cell_type": "markdown",
   "metadata": {
    "id": "bPhiy1IhiLow"
   },
   "source": [
    "**8.** Нарисуйте графики, отображающие зависимость цены алмаза от веса, длины, ширины и глубины (всего должно получиться 4 графика). Проинтерпретируйте наблюдаемую на них зависимость. Согласуется ли она с вашими представлениями о жизни?\n",
    "\n",
    "*Примечание: для изображения зависимости одной величины от другой лучше всего подходит график типа scatter.*"
   ]
  },
  {
   "cell_type": "code",
   "execution_count": 95,
   "metadata": {
    "id": "nQzcpqqNkGYq",
    "ExecuteTime": {
     "end_time": "2023-05-29T14:22:24.877177Z",
     "start_time": "2023-05-29T14:22:24.875330Z"
    }
   },
   "outputs": [],
   "source": [
    "# ╰( ͡° ͜ʖ ͡° )つ──☆*:・ﾟ"
   ]
  },
  {
   "attachments": {},
   "cell_type": "markdown",
   "metadata": {
    "id": "jd6J9SQlkGwZ"
   },
   "source": [
    "Подумайте, какую функцию можно применить к признакам, чтобы зависимость целевой переменной от них больше напоминала линейную?"
   ]
  },
  {
   "attachments": {},
   "cell_type": "markdown",
   "metadata": {
    "id": "hU63JZex0h_P"
   },
   "source": [
    "Ваше обоснование здесь: ╰( ͡° ͜ʖ ͡° )つ──☆*:・ﾟ"
   ]
  },
  {
   "attachments": {},
   "cell_type": "markdown",
   "metadata": {
    "id": "1L7iSqah0mYd"
   },
   "source": [
    "**9.** На одном рисунке изобразите график зависимости целевой переменной от признака depth и график зависимости целевой переменной от признака table. Чтобы картинка получилась читаемой, сделайте графики полупрозрачными (параметр `alpha`). Что вы можете сказать о получившемся рисунке? Правда ли, что модели будет достаточно оставить только один из этих признаков? Убедитесь в этом, нарисовав аналогичные графики зависимости признаков depth и table от других числовых признаков.\n",
    "\n",
    "*Примечание: почитайте про plt.subplots, чтобы узнать, как красиво рисовать несколько графиков.*"
   ]
  },
  {
   "cell_type": "code",
   "execution_count": 96,
   "metadata": {
    "id": "UqTp9xWY28Av",
    "ExecuteTime": {
     "end_time": "2023-05-29T14:22:24.880674Z",
     "start_time": "2023-05-29T14:22:24.878764Z"
    }
   },
   "outputs": [],
   "source": [
    "# ╰( ͡° ͜ʖ ͡° )つ──☆*:・ﾟ"
   ]
  },
  {
   "attachments": {},
   "cell_type": "markdown",
   "metadata": {
    "id": "6kZjZ2Ww3YF0"
   },
   "source": [
    "Казалось бы, мы тут пытаемся придумать новые признаки, чтобы улучшить модель, зачем нам выбрасывать уже имеющиеся признаки? Дело в том, что если в выборке есть \"похожие\" в некотором смысле признаки, то модель, обученная на таких данных, может выдавать худший результат, чем если бы похожих признаков в выборке не было. Продемонстрируем это явление на практике."
   ]
  },
  {
   "attachments": {},
   "cell_type": "markdown",
   "metadata": {
    "id": "5x3TzT7V4gDP"
   },
   "source": [
    "**10.** Обучите линейную модель, предсказывающую цену алмазов на признаках x, y, z из наших данных. Замерьте качество полученной линейной модели на тестовой выборке, после чего добавьте признак $\\tau = \\frac{x}{2} + 4y - z + 1$, и снова обучите линейную модель. Которая из моделей добилась лучшего качества?"
   ]
  },
  {
   "cell_type": "code",
   "execution_count": 97,
   "metadata": {
    "id": "ktbNFzsz5gt9",
    "ExecuteTime": {
     "end_time": "2023-05-29T14:22:24.883711Z",
     "start_time": "2023-05-29T14:22:24.881689Z"
    }
   },
   "outputs": [],
   "source": [
    "# ╰( ͡° ͜ʖ ͡° )つ──☆*:・ﾟ"
   ]
  },
  {
   "attachments": {},
   "cell_type": "markdown",
   "metadata": {
    "id": "RbZ4u40h_MyO"
   },
   "source": [
    "Объясните, почему наличие похожих признаков в выборке заметно ухудшает качество, выдаваемое линейной моделью?"
   ]
  },
  {
   "attachments": {},
   "cell_type": "markdown",
   "metadata": {
    "id": "gEINdpQy_XcA"
   },
   "source": [
    "Ваше обоснование здесь: ╰( ͡° ͜ʖ ͡° )つ──☆*:・ﾟ"
   ]
  },
  {
   "attachments": {},
   "cell_type": "markdown",
   "metadata": {
    "id": "argZX3YMCb6e"
   },
   "source": [
    "Итак, мы обсудили, исходя из каких соображений можно выбирать преобразования над имеющимися признаками и когда для модели может быть полезнее выкинуть некоторый признак из выборки, чем оставить его. Теперь давайте придумаем совсем новый признак. Для этого снова посмотрим на такие характеристики алмазов, как длина, ширина и глубина. Эти характеристики несомненно важны для предсказания цены алмазов, и все построенные нами модели находили какую-то закономерность, но теперь давайте мы попробуем их объединить в новом признаке `объём`. Для начала будем считать, что объём алмаза неплохо приближается объёмом параллелепипеда с такими же измерениями."
   ]
  },
  {
   "attachments": {},
   "cell_type": "markdown",
   "metadata": {
    "id": "DtlMCLwEDhhG"
   },
   "source": [
    "**11.** Обучите линейную модель на 4 признаках: x, y, z, и объём параллелепипеда со сторонами (x, y, z). Сравните качество полученной модели с качеством, выдаваемым моделью, обученной на признаках x, y, z."
   ]
  },
  {
   "cell_type": "code",
   "execution_count": 98,
   "metadata": {
    "id": "5fgSn6IZELmT",
    "ExecuteTime": {
     "end_time": "2023-05-29T14:22:24.885855Z",
     "start_time": "2023-05-29T14:22:24.884951Z"
    }
   },
   "outputs": [],
   "source": [
    "# ╰( ͡° ͜ʖ ͡° )つ──☆*:・ﾟ"
   ]
  },
  {
   "attachments": {},
   "cell_type": "markdown",
   "metadata": {
    "id": "6XuJr72iGBSy"
   },
   "source": [
    "Понятно, что алмазы редко выглядят как идеальные параллелепипеды (хотя, конечно, многое зависит от огранки), и чаще встречаются алмазы, форма которых скорее напоминает эллипсоид. Снова обучите линейную модель на 4 признаках: x, y, z и объём эллипсоида с осями (x, y, z). Сравните полученную модель с предыдущей. Сильно ли отличается качество у этих моделей? Объясните, почему так получилось?"
   ]
  },
  {
   "cell_type": "code",
   "execution_count": 99,
   "metadata": {
    "id": "5ZzmZmNhIKDo",
    "ExecuteTime": {
     "end_time": "2023-05-29T14:22:24.889164Z",
     "start_time": "2023-05-29T14:22:24.887746Z"
    }
   },
   "outputs": [],
   "source": [
    "# ╰( ͡° ͜ʖ ͡° )つ──☆*:・ﾟ"
   ]
  },
  {
   "attachments": {},
   "cell_type": "markdown",
   "metadata": {
    "id": "c7r5Je0uI6pj"
   },
   "source": [
    "Если вам стало интересно, можете попробовать обучить модель, аппроксимируя объём алмаза объёмом тетраэдра. Впрочем, если вы ответили на предыдущий вопрос, вы уже наверняка представляете, что получится. В любом случае мы не настаиваем =)\n",
    "\n",
    "Следующий трюк, который мы обсудим, --- это бинаризация признаков. Суть заключается в том, что мы берём некоторый признак из выборки и делаем из него несколько бинарных признаков (т.е. таких признаков, значения которых могут быть либо $0$, либо $1$). Частный случай бинаризации признаков мы уже разбирали, когда занимались кодированием категориальных признаков: тогда мы брали признак $P$, описывающий принадлежность объекта к одной из $N$ категорий ${A_1, \\ldots, A_N}$, и делали из него $N$ признаков вида $[P = A_1], [P = A_2], \\ldots [P = A_N]$.\n",
    "\n",
    "Однако это не единственный способ бинаризовать признаки. Допустим $P$ --- числовой признак, тогда мы, например, можем выбрать $k$ порогов ${t_1, \\ldots, t_k}$ и превратить признак $P$ в $k$ бинарных признаков $[P \\leq t_1], [t_1 < P \\leq t_2], \\ldots, [t_{k-1} < P \\leq t_k]$.\n",
    "\n",
    "Если же у нас есть два признака $P$ и $F$, мы можем применять булевы операции к их бинаризациям, например $[P < t_1 \\vee F > h_1], [t_2 < P \\leq t_3 \\wedge h_2 \\leq F \\leq h_3], [(P = t_4 \\vee F = h_4) \\wedge P \\leq t_5]$, и т.д.\n",
    "\n",
    "Давайте с помощью бинаризации выделим объекты, цена которых скорее всего будет высокой, и объекты, цена которых скорее всего будет низкой. Делать мы это будем на основе категориальных признаков (закодированных любым способом, однако если вы предпочитаете кодирование бинаризацией, т.е. второй способ, то при выполнении задания не забывайте, что признаки должны быть линейно независимы). Чтобы вы понимали, как именно категориальные признаки характеризуют алмазы, мы приложили вам картинку `categorical_descriptions`.\n",
    "\n",
    "![](https://lh3.google.com/u/0/d/1xzqbnwyOazKNiiJxNo_AUh7iUsTONC-0=w1920-h1090-iv1)"
   ]
  },
  {
   "attachments": {},
   "cell_type": "markdown",
   "metadata": {
    "id": "ADOr1ZH6Y1OQ"
   },
   "source": [
    "**12.** Обучите линейную модель, предсказывающую цену алмазов на категориальных признаках из наших данных. Замерьте качество полученной линейной модели на тестовой выборке, после чего добавьте признаки, которые явно выделят алмазы, цена на которые скорее всего будет высокой, и алмазы, цена которых скорее всего будет низкой, и снова обучите линейную модель. Вы можете также добавить и свои признаки и использовать не только категориальные признаки (например, если вам захочется добавить признак \"у алмаза лучшая чистота И алмаз совершенно бесцветный И объём алмаза не меньше $t$\"). Удалось ли добиться прироста в качестве?"
   ]
  },
  {
   "cell_type": "code",
   "execution_count": 100,
   "metadata": {
    "id": "7sxhbqDPZyfH",
    "ExecuteTime": {
     "end_time": "2023-05-29T14:22:24.936302Z",
     "start_time": "2023-05-29T14:22:24.893430Z"
    }
   },
   "outputs": [],
   "source": [
    "# ╰( ͡° ͜ʖ ͡° )つ──☆*:・ﾟ"
   ]
  },
  {
   "attachments": {},
   "cell_type": "markdown",
   "metadata": {
    "id": "AbIbDwNci6Mf"
   },
   "source": [
    "#### Как сдавать предсказания?\n",
    "\n",
    "Передайте в написанную нами функцию `make_submission` ваши предсказания. Когда функция отработает, у вас в рабочей директории появится файл `submission.csv`, который вам и нужно сдать в соревнование."
   ]
  },
  {
   "cell_type": "code",
   "execution_count": 101,
   "metadata": {
    "id": "m4gv1RKjjtxA",
    "ExecuteTime": {
     "end_time": "2023-05-29T14:22:24.937082Z",
     "start_time": "2023-05-29T14:22:24.897022Z"
    }
   },
   "outputs": [],
   "source": [
    "def make_submission(y_pred):\n",
    "  file = np.arange(1, len(y_pred) + 1)\n",
    "  file = file.reshape(-1, 1)\n",
    "  file = np.concatenate([file, y_pred.reshape(-1, 1).astype(float)], axis=1)\n",
    "  with open(\"submission.csv\", \"w\") as f:\n",
    "    f.write(\"id,price\\n\")\n",
    "    np.savetxt(f, file, delimiter=\",\", fmt=\"%d,%10.5f\")\n",
    "\n",
    "# пример вызова функции:\n",
    "make_submission(np.zeros(16182))"
   ]
  },
  {
   "attachments": {},
   "cell_type": "markdown",
   "metadata": {
    "id": "4aHgP-6qfl0D"
   },
   "source": [
    "### Задание 3. Регуляризация (3.9 баллов)\n",
    "\n"
   ]
  },
  {
   "attachments": {},
   "cell_type": "markdown",
   "metadata": {
    "id": "6RcCzJLjm8a6"
   },
   "source": [
    "Конечно, никто не гарантирует, что объясняемая переменная зависит от остальных характеристик именно линейно, поэтому мы можем неслабо улучшить модель, добавляя в неё нелинейные признаки на основе уже имеющихся. Один из наиболее распространённых подходов заключается в добавлении в выборку полиномиальных признаков некоторой фиксированной степени на основе уже имеющихся. Т.е., скажем, у нас есть признаки {P, F, G} и наша задача состоит в том, чтобы добавить в выборку полиномиальные признаки степени $2$ на основе имеющихся. Тогда мы добавим в выборку признаки\n",
    "\n",
    "$$\n",
    "P^2, F^2, G^2, PF, PG, FG.\n",
    "$$\n",
    "\n",
    "Аналогично для большего числа признаков и больших степеней.\n",
    "\n",
    "**1. [0,4 баллов]** Реализуйте функцию `add_polynomial_features`, принимающую массив признаков, и степень, и возвращающую полиномиальные признаки заданной степени."
   ]
  },
  {
   "cell_type": "code",
   "execution_count": 102,
   "metadata": {
    "id": "_lnytPeGnEFP",
    "ExecuteTime": {
     "end_time": "2023-05-29T14:22:24.975570Z",
     "start_time": "2023-05-29T14:22:24.971905Z"
    }
   },
   "outputs": [
    {
     "name": "stdout",
     "output_type": "stream",
     "text": [
      "[[35.0464 38.8129 49.7025 ... 19.1844 20.7936 19.4481]\n",
      " [34.8096 38.6883 48.9975 ... 19.3158 20.5656 19.5363]\n",
      " [21.7856 23.7986 30.456  ... 11.826  12.8136 11.5101]\n",
      " [34.5744 38.5641 48.3025 ... 19.4481 20.3401 19.6249]\n",
      " [21.6384 23.7222 30.024  ... 11.907  12.6731 11.5623]\n",
      " [13.5424 14.5924 18.6624 ...  7.29    7.8961  6.8121]]\n"
     ]
    }
   ],
   "source": [
    "from itertools import combinations_with_replacement\n",
    "def add_polynomial_features(features, degree):\n",
    "  \"\"\"\n",
    "    features: массив признаков\n",
    "    degree:   показатель степени\n",
    "  \"\"\"\n",
    "  a = [i for i in range(0, features.shape[0])]\n",
    "  combs = combinations_with_replacement(a, degree)\n",
    "  cur = np.array([]).reshape((0, features.shape[1]))\n",
    "  for elem in combs:\n",
    "    line = np.ones((1, features.shape[1]))\n",
    "    for x in elem:\n",
    "      line = line * features[x]\n",
    "    cur = np.concatenate((cur, line), axis=0)\n",
    "  return cur\n",
    "# Пример: получаем полиномиальные признаки степени 2 на основе признаков x, y, z:\n",
    "poly_features = add_polynomial_features(data[:, [6, 7, 8]].astype(np.float64).T, 2)\n",
    "print(poly_features)\n",
    "assert poly_features.shape[0] == 6 "
   ]
  },
  {
   "attachments": {},
   "cell_type": "markdown",
   "metadata": {
    "id": "TqwGy6HEnX6W"
   },
   "source": [
    "Обучите линейную модель, добавив в выборку полиномиальные признаки степени $2$ от признаков carat и table. Сравните качество полученной модели с качеством модели из пункта 7 предыдущего задания."
   ]
  },
  {
   "cell_type": "code",
   "execution_count": 103,
   "metadata": {
    "id": "MPI707WOn1op",
    "ExecuteTime": {
     "end_time": "2023-05-29T14:22:25.201768Z",
     "start_time": "2023-05-29T14:22:25.008308Z"
    }
   },
   "outputs": [
    {
     "name": "stdout",
     "output_type": "stream",
     "text": [
      "932679.7271930178\n"
     ]
    }
   ],
   "source": [
    "new_enc = OrdinalEncoder(categories = [cut, color, clarity])\n",
    "new_enc.fit(X_train[:,categorical_features])\n",
    "poly_X_train = np.concatenate((new_enc.transform(X_train[:, categorical_features]), X_train[:, numeric_features].astype(float)), axis=1)\n",
    "#после перестановки столбцов признаки будут иметь индексы 3 и 5 соотвественно\n",
    "poly_X_train = np.concatenate((poly_X_train, add_polynomial_features(poly_X_train[:, [3, 5]].T, 2).T), axis=1)\n",
    "poly_X_train = np.concatenate((poly_X_train, np.ones((poly_X_train.shape[0], 1))), axis=1)\n",
    "poly_X_train_t = np.transpose(poly_X_train)\n",
    "sqrt_train = np.sqrt(y_train)\n",
    "cfs_train_poly = np.matmul(np.linalg.inv(np.matmul(poly_X_train_t, poly_X_train)), np.matmul(poly_X_train_t, sqrt_train))\n",
    "\n",
    "new_enc.fit(X_test[:,categorical_features])\n",
    "poly_X_test = np.concatenate((new_enc.transform(X_test[:, categorical_features]), X_test[:, numeric_features].astype(float)), axis=1)\n",
    "#после перестановки столбцов признаки будут иметь индексы 3 и 5 соотвественно\n",
    "poly_X_test = np.concatenate((poly_X_test, add_polynomial_features(poly_X_test[:, [3, 5]].T, 2).T), axis=1)\n",
    "poly_X_test = np.concatenate((poly_X_test, np.ones((poly_X_test.shape[0], 1))), axis=1)\n",
    "\n",
    "predicted_price_test_poly = np.matmul(poly_X_test, cfs_train_poly)\n",
    "\n",
    "print(mean_squared_error(np.power(predicted_price_test_poly, 2), y_test))"
   ]
  },
  {
   "attachments": {},
   "cell_type": "markdown",
   "metadata": {},
   "source": [
    "**Комментарий:**\n",
    "\n",
    "В сочетании с sqrt-таргетом использование полиномиальных признаков дает крутое улучшение качества (без sqrt-таргета качество становится лучше, но не настолько сильно)"
   ]
  },
  {
   "attachments": {},
   "cell_type": "markdown",
   "metadata": {
    "id": "_ihqwU4rvAKw"
   },
   "source": [
    "Итак, мы узнали, что в выборку можно добавлять полиномиальные признаки от уже имеющихся числовых признаков и, как правило, это приводит к существенному приросту качества. Возникает естественный вопрос: почему бы не свести задачу построения линейной модели к подбору степени полиномиальных признаков? Ведь наверняка можно найти такую степень, при которой модель будет выдавать наилучшее возможное качество? Давайте исследуем этот вопрос."
   ]
  },
  {
   "attachments": {},
   "cell_type": "markdown",
   "metadata": {
    "id": "Ug11Yg52v5WU"
   },
   "source": [
    "**2. [0,3 баллов]** В этом задании вам нужно обучить 6 линейных моделей на полиномиальных признаках степеней от 1 до 6 от уже имеющихся признаков (carat, x, y, z). Нарисуйте график зависимости качества модели на обучающей и тестовой выборке от степени полиномиальных признаков в логарифмической шкале. Прокомментируйте полученный график: ожидали ли вы такого эффекта? "
   ]
  },
  {
   "cell_type": "code",
   "execution_count": 104,
   "metadata": {
    "id": "JGvdh2Wmwwh_",
    "ExecuteTime": {
     "end_time": "2023-05-29T14:22:25.909979Z",
     "start_time": "2023-05-29T14:22:25.202274Z"
    }
   },
   "outputs": [
    {
     "data": {
      "text/plain": "<Figure size 648x432 with 1 Axes>",
      "image/png": "[encoded data removed]"
     },
     "metadata": {
      "needs_background": "light"
     },
     "output_type": "display_data"
    }
   ],
   "source": [
    "# Я сдаюсь, Дима вынудил меня написать функции. Но выше мне менять немного лень))\n",
    "def transform_matrix(X, deg):\n",
    "    Y = add_polynomial_features(X[:, [0, 6, 7, 8]].astype(float).T, degree=deg).T\n",
    "    Y = np.concatenate((Y, np.ones((Y.shape[0], 1))), axis=1)\n",
    "    return Y\n",
    "def get_coefs(X, y):\n",
    "    coefs = np.matmul(np.linalg.inv(np.matmul(X.T, X)), np.matmul(X.T, y))\n",
    "    return coefs\n",
    "def get_error(X, coefs, y):\n",
    "    prediction = np.matmul(X, coefs)\n",
    "    return mean_squared_error(prediction, y)\n",
    "train_y = []\n",
    "test_y = []\n",
    "for k in range(1, 6+1):\n",
    "    X_tr = transform_matrix(X_train, k)\n",
    "    X_ts = transform_matrix(X_test, k)\n",
    "    cfs_tr = get_coefs(X_tr, y_train)\n",
    "    train_y.append(get_error(X_tr, cfs_tr, y_train))\n",
    "    test_y.append(get_error(X_ts, cfs_tr, y_test))\n",
    "k = np.arange(1, 7, 1)\n",
    "plt.figure(figsize=(9, 6))\n",
    "plt.plot(k, train_y, \"-b\", label=\"train\")\n",
    "plt.plot(k, test_y, \"-g\", label=\"test\")\n",
    "plt.yscale(\"log\")\n",
    "plt.xlabel(\"k\")\n",
    "plt.ylabel(\"Среднеквадратичная ошибка\")\n",
    "plt.legend(fontsize=13)\n",
    "plt.show()"
   ]
  },
  {
   "attachments": {},
   "cell_type": "markdown",
   "metadata": {},
   "source": [
    "**Комментарий:**\n",
    "\n",
    "Такой эффект был ожидаем, так как при большом количестве полиномиальных признаков наша модель \"привыкает\" к обучающей выборке."
   ]
  },
  {
   "attachments": {},
   "cell_type": "markdown",
   "metadata": {
    "id": "PKtmVN-Dww4h"
   },
   "source": [
    "Наблюдаемый вами эффект называется переобучением: ситуация, когда модель становится слишком зависимой от обучающей выборки. Действительно, в процессе обучения модели мы стараемся минимизировать ошибку именно на обучающей выборке, и совершенно неочевидно, почему обученная модель будет обобщаться на объекты, которых она раньше не видела.\n",
    "\n",
    "Когда мы начали добавлять в выборку полиномиальные признаки большой степени, модель стала настолько сложной, что обрела способность запомнить обучающую выборку вместо того, чтобы извлекать из неё какие-то закономерности. Как следствие, когда мы подали модели на вход выборку, отличную от обучающей, мы получили колоссальную ошибку.\n",
    "\n",
    "Ситуация, когда качество модели на обучающей выборке гораздо ниже качества на тестовой выборке, является самым явным симптомом переобучения, но не единственным. Часто в ситуации переобучения можно наблюдать необычайно большие по модулю коэффициенты модели.\n",
    "\n",
    "Есть много способов борьбы с этим злом. Один из них --- регуляризация. Сейчас мы рассмотрим одну из её разновидностей --- **L2-регуляризацию**. Идея в том, чтобы подправить матрицу $X^TX$, сделав её \"получше\". Например, это можно сделать, заменив её на $(X^TX + \\lambda E)$, где $\\lambda > 0$ --- некоторый скаляр. Пожертвовав точностью на обучающей выборке, мы тем не менее получаем численно более стабильное псевдорешение $a = (X^TX + \\lambda E)^{-1}X^Ty$ и снижаем эффект переобучения. *Гиперпараметр* $\\lambda$ нужно подбирать, и каких-то универсальных способов это делать нет, но зачастую можно его подобрать таким, чтобы ошибка на тестовой выборке падала.\n",
    "\n",
    "Однако есть некоторые правила, которых стоит придерживаться при подборе коэффициента регуляризации. Обычно в такой ситуации всю выборку делят на три части: обучающую, *валидационную* и тестовую. Сначала по валидационной подбирают значение гиперпараметра, потом по обучающей строят модель, а по тестовой оценивают её итоговое качество. Кроме того, подбирать $\\lambda$ нужно по логарифметической сетке, чтобы узнать оптимальный порядок величины."
   ]
  },
  {
   "attachments": {},
   "cell_type": "markdown",
   "metadata": {
    "id": "KRr312xvz-Cx"
   },
   "source": [
    "**3. [0,1 балла]** Подумайте, почему не стоит подбирать коэффициент регуляризации по обучающей выборке? По тестовой выборке?"
   ]
  },
  {
   "attachments": {},
   "cell_type": "markdown",
   "metadata": {
    "id": "PjYAT3i-0GGX"
   },
   "source": [
    "**Комментарий:**\n",
    "\n",
    "По обучающей выборке не стоит подбирать этот параметр, потому что мы пытаемся как избавиться от эффекта переобучения, возникшего как раз на этих данных. А тестовая в свою очередь служит для оценки качества и параметр не должен каким-то образом от нее зависеть."
   ]
  },
  {
   "attachments": {},
   "cell_type": "markdown",
   "metadata": {
    "id": "nQlJbhvH0SBD"
   },
   "source": [
    "**4. [0,35 балла]** Рассмотрим линейную можель с полиномиальными признаками степени $4$ от признаков (carat, x, y, z). Качество такой модели на обучающей выборке уже заметно лучше, чем качество на тестовой. Попробуем исправить эту ситуацию, применив $L2$-регуляризацию. Поделите вашу обучающую выборку на две части в соотношении $8:2$. Большую часть вы вновь объявите обучающей выборкой, а меньшую --- валидационной. Подберите гиперпараметр $\\lambda$ по логарифмической сетке таким образом, чтобы линейная модель с \"подправленной\" матрицей Грама $X^TX$ выдавала лучшее качество на валидационной выборке. Обучите линейную модель с подобранным параметром $\\lambda$ на обучающей выборке и протестируйте её на тестовых данных. Сделайте вывод: помогла ли нам регуляризация?\n",
    "\n",
    "*Примечание: np.logspace вам в помощь.*"
   ]
  },
  {
   "cell_type": "code",
   "execution_count": 105,
   "metadata": {
    "id": "g5rBhgI93MXd",
    "ExecuteTime": {
     "end_time": "2023-05-29T14:22:26.046408Z",
     "start_time": "2023-05-29T14:22:25.915557Z"
    }
   },
   "outputs": [
    {
     "name": "stdout",
     "output_type": "stream",
     "text": [
      "Ошибка при k = 4 до L2-регуляризации:    34015667402982.883\n",
      "Ошибка при k = 4 после L2-регуляризации: 640735046.3742992\n"
     ]
    }
   ],
   "source": [
    "print(f\"Ошибка при k = 4 до L2-регуляризации:    {test_y[3]}\")\n",
    "def transform_matrix_lambda(X, deg):\n",
    "    Y = add_polynomial_features(X[:, [0, 6, 7, 8]].astype(float).T, degree=deg).T\n",
    "    Y = np.concatenate((Y, np.ones((Y.shape[0], 1))), axis=1)\n",
    "    return Y\n",
    "def get_coefs_with_lambda(X_tr, X_val, y_tr, y_val):\n",
    "    min_error = 1e20\n",
    "    for L in np.logspace(-20, 20):\n",
    "        fixed_XtX = np.matmul(X_tr.T, X_tr) + L * np.eye(X_tr.shape[1])\n",
    "        try_coefs = np.matmul(np.linalg.inv(fixed_XtX), np.matmul(X_tr.T, y_tr))\n",
    "        error = mean_squared_error(np.matmul(X_val, try_coefs), y_val)\n",
    "        if error < min_error:\n",
    "            min_error = error\n",
    "            ans_coef = try_coefs\n",
    "    return ans_coef\n",
    "X_tr, X_val, y_tr, y_val = train_test_split(X_train, y_train, test_size=0.2, random_state=19)\n",
    "X_tr, X_val, X_ts = transform_matrix_lambda(X_tr, 4), transform_matrix_lambda(X_val, 4), transform_matrix_lambda(X_test, 4)\n",
    "cfs_tr = get_coefs_with_lambda(X_tr, X_val, y_tr, y_val)\n",
    "print(f\"Ошибка при k = 4 после L2-регуляризации: {mean_squared_error(np.matmul(X_ts, cfs_tr), y_test)}\")\n"
   ]
  },
  {
   "attachments": {},
   "cell_type": "markdown",
   "metadata": {},
   "source": [
    "**Комментарий:**\n",
    "\n",
    "Да, ошибка стала в разы меньше (хотя она всё еще довольно большая)."
   ]
  },
  {
   "attachments": {},
   "cell_type": "markdown",
   "metadata": {
    "id": "wFeo516Z4ckd"
   },
   "source": [
    "**5. [0,55 балла]** Повторите первое задание, но вместо 6 обычных линейных моделей обучите 6 регуляризованных линейных моделей. Для каждой модели вам нужно будет подобрать свой гиперпараметр $\\lambda$. Сравните полученный график с графиком из первого задания: для всякой ли степени мы смогли улучшить ситуацию? Как выдумаете, почему?"
   ]
  },
  {
   "cell_type": "code",
   "execution_count": 106,
   "metadata": {
    "id": "fKPFiHrN4-xO",
    "ExecuteTime": {
     "end_time": "2023-05-29T14:22:27.328032Z",
     "start_time": "2023-05-29T14:22:26.049137Z"
    }
   },
   "outputs": [
    {
     "data": {
      "text/plain": "<Figure size 648x432 with 1 Axes>",
      "image/png": "[encoded data removed]"
     },
     "metadata": {
      "needs_background": "light"
     },
     "output_type": "display_data"
    }
   ],
   "source": [
    "train_y_reg = []\n",
    "test_y_reg = []\n",
    "for k in range(1, 6+1):\n",
    "    X_tr, X_val, y_tr, y_val = train_test_split(X_train, y_train, test_size=0.2, random_state=19)\n",
    "    X_tr, X_val, X_ts = transform_matrix_lambda(X_tr, k), transform_matrix_lambda(X_val, k), transform_matrix_lambda(X_test, k)\n",
    "    cfs_tr = get_coefs_with_lambda(X_tr, X_val, y_tr, y_val)\n",
    "    train_y_reg.append(get_error(X_tr, cfs_tr, y_tr))\n",
    "    test_y_reg.append(get_error(X_ts, cfs_tr, y_test))\n",
    "k = np.arange(1, 7, 1)\n",
    "plt.figure(figsize=(9, 6))\n",
    "plt.plot(k, train_y, \"-b\", label=\"train without reg\")\n",
    "plt.plot(k, test_y, \"-g\", label=\"test without reg\")\n",
    "plt.plot(k, train_y_reg, \"b\", label=\"train with reg\", linestyle='dashed')\n",
    "plt.plot(k, test_y_reg, \"g\", label=\"test with reg\", linestyle='dashed')\n",
    "plt.yscale(\"log\")\n",
    "plt.xlabel(\"k\")\n",
    "plt.ylabel(\"Среднеквадратичная ошибка\")\n",
    "plt.legend(fontsize=13)\n",
    "plt.show()"
   ]
  },
  {
   "attachments": {},
   "cell_type": "markdown",
   "metadata": {},
   "source": [
    "**Комментарий:**\n",
    "\n",
    "Регуляризация помогла уменьшить эффект переобучения: у меня для всех степеней k значение ошибки получилось меньше (в среднем в $10^4 - 10^5$ раз), чем было раньше (наиболее заметно для k = 1..5). Также видим, что ошибка уменьшилась при значениях k $\\geq$ 3 и на обучающей выборке."
   ]
  },
  {
   "attachments": {},
   "cell_type": "markdown",
   "metadata": {
    "id": "IwzU99F75DPx"
   },
   "source": [
    "**6. [1,2 балла]** Пусть заданы $X\\in \\text{Mat}_{n \\times k}(\\mathbb{R})$, $\\lambda \\geqslant 0$, а также известно, что $\\text{rk}~X = k \\leqslant n$. Решите следующую задачу оптимизации:\n",
    "$$|Xa - y|^2 + \\lambda|a|^2\\rightarrow\\min\\limits_{a \\in \\mathbb{R}^k}.$$\n",
    "\n",
    "Заметим, что первое слагаемое --- это значение mean-square e (с точностью до домножения на некоторую константу) модели с коэффициентами $a = (a_1, \\ldots, a_k)$. Типичной задачей линейной регрессии является минимизация первого слагаемого по всем векторам $a$. Однако в данном случае кроме минимизации среднеквадратичной ошибки мы также добавляем условие, что при этом и веса модели должны быть как можно меньше. Действительно, мы уже убедились, что чем сложнее модель, тем меньше будет ошибка на обучающей выборке (а именно это ошибку мы и минимизируем в процессе обучения) и тем вероятнее модель будет иметь большие по модулю коэффициенты, а значит, и большое значение $|a|$. Добавляя второе слагаемое в рассматриваемый выше функционал, мы как бы задаём ограничение на абсолютную величину коэффициентов модели. При этом параметр $\\lambda$ явно будет указывать, насколько сильно мы будем штрафовать модель за большие коэффициенты. Заметим, что если $\\lambda = 0$, то мы получаем классическую задачу линейной регресии без регуляризации."
   ]
  },
  {
   "attachments": {},
   "cell_type": "markdown",
   "metadata": {
    "id": "m0l8CtbO7uxo"
   },
   "source": [
    "**Комментарий:**\n",
    "\n",
    "Мы знаем, что $|a|^2 = a_1^2 + a_2^2 + \\cdots + a_k^2$. Это удобно переписать в векторном виде как: $|a|^2 = a^T \\cdot a$. Так же перепишем первое слагаемое из условия: $|Xa - y|^2 = (Xa - y)^T \\cdot (Xa - y)$. Всю сумму теперь можно записать в следующем виде:\n",
    "\n",
    "Запишем $i$-ую координату слагаемого $Xa - y$: $\\hspace{0.2em}\\sum\\limits_{j = 1}^k(X_{ij}a_j) - y_i$. Тогда $|Xa - y|$ записывается как $\\sum\\limits_{i = 1}^n  \\biggl(\\hspace{0.2em} \\sum\\limits_{j = 1}^k(X_{ij}a_j) - y_i\\hspace{0.2em} \\biggr)^2$\n",
    "\n",
    "В итоге вместе со вторым слагаемым выражение переписывается как:\n",
    "\n",
    " $$|Xa - y|^2 + \\lambda|a|^2 = (Xa - y)^T\\cdot(Xa - y) + \\lambda\\cdot a^T\\cdot a = \\sum\\limits_{i = 1}^n  \\biggl(\\hspace{0.2em} \\sum\\limits_{j = 1}^k(X_{ij}a_j) - y_i\\hspace{0.2em} \\biggr)^2 + λ\\sum\\limits_{j = 1}^k a_j^2$$\n",
    "\n",
    "Возьмём производную от всего выражения по некоторому коэффициенту $a_s$ $(s \\in [1, k])$:\n",
    "\n",
    "$$ \\biggl(\\hspace{0.2em} \\sum\\limits_{i = 1}^n  \\biggl(\\hspace{0.2em} \\sum\\limits_{j = 1}^k(X_{ij}a_j) - y_i\\hspace{0.2em} \\biggr)^2 + λ\\sum\\limits_{j = 1}^k a_j^2 \\hspace{0.2em} \\biggr)' = \\sum\\limits_{i = 1}^n 2X_{is}\\biggl(\\hspace{0.2em} \\sum\\limits_{j = 1}^k(X_{ij}a_j) - y_i\\hspace{0.2em} \\biggr) + 2λa_s$$\n",
    "\n",
    "Можно приравнять производную к нулю (так мы найдём минимум):\n",
    "\n",
    "$$\\sum\\limits_{i = 1}^n 2X_{is}\\biggl(\\hspace{0.2em} \\sum\\limits_{j = 1}^k(X_{ij}a_j) - y_i\\hspace{0.2em} \\biggr) + 2λa_s = 0$$\n",
    "\n",
    "$$\\sum\\limits_{i = 1}^n X_{is}\\biggl(\\hspace{0.2em} \\sum\\limits_{j = 1}^k(X_{ij}a_j) - y_i\\hspace{0.2em} \\biggr) + λa_s = 0$$\n",
    "\n",
    "$$\\sum\\limits_{i = 1}^n X_{is}\\biggl(\\hspace{0.2em} \\sum\\limits_{j = 1}^k(X_{ij}a_j)\\hspace{0.2em} \\biggr) - \\sum\\limits_{i = 1}^n X_{is}y_i + λa_s = 0$$\n",
    "  \n",
    "$$\\sum\\limits_{i = 1}^n \\hspace{0.2em} \\sum\\limits_{j = 1}^k(X_{is}X_{ij}a_j) + λa_s = \\sum\\limits_{i = 1}^n X_{is}y_i = X_s^Ty$$\n",
    "\n",
    "$$X_s^T X a + λa_s = X_s^T y$$\n",
    "  \n",
    "Теперь просто перепишем в векторном виде и получим: \n",
    "  \n",
    "$$X^T X a + λEa = X^T y \\Leftrightarrow a = (X^TX + \\lambda E)^{-1}X^Ty$$"
   ]
  },
  {
   "attachments": {},
   "cell_type": "markdown",
   "metadata": {},
   "source": [
    "P.S. хотелось бы еще пояснить, почему вот эта матрица $(X^TX + \\lambda E)$ при $\\lambda \\geq 0$ действительно обратима:\n",
    "\n",
    "По условию $rk(X) = k,$ значит столбцы $X$ линейно независимы и $dim⟨col_1, col_2, \\cdots, col_𝑘⟩ = k$. Тогда $X^TX$ - матрица Грама $G(col_1, col_2, \\cdots col_𝑘)$ размера $k \\times k$, а из лекций $rk(G(col_1, col_2, \\cdots, col_𝑘)) = dim⟨col_1, col_2, \\cdots, col_𝑘⟩ = k$. \n",
    "\n",
    "Тогда при $\\lambda = 0$ просто получаем невырожденную матрицу Грама и обратная действительно существует.\n",
    "\n",
    "Теперь случай для $\\lambda > 0$. Покажем, что спектр матрицы Грама неотрицательные. Во-первых, все главные миноры матрицы Грама это тоже матрицы Грама для каких-то линейно независимых подсистем векторов, поэтому они будут положительны (так как определитель матрицы Грама для линейно независимой системы $> 0$). Вспомним формулу для коэффициентов хар. многочлена через миноры из 1 семестра:\n",
    "\n",
    "$\\chi_A(\\lambda) = \\lambda^n + a_{n-1}\\lambda^{n-1} + \\ldots + a_1 \\lambda + a_0$, где $a_{k} = (-1)^{n-k}\\left(\\sum_{i_1<\\ldots<i_k}\\det R_{i_1,\\ldots,i_k}\\right)$\n",
    "\n",
    "Тогда заметим, что если все миноры положительны, то подставляя отрицательное $\\lambda$ для хар. многочлена нечётной степени получим, что каждое слагаемое $< 0$ и вся сумма $< 0$ (и в частности не равна 0), а для хар. многочлена чётной степени получим, что каждое слагаемое $> 0$ и вся сумма $> 0$ (и в частности не равна 0). То есть при $\\lambda < 0$ значение $\\chi_A(\\lambda) \\neq 0$, т.е. у него нет отрицательных корней (значит и отрицательных значений из спектра тоже). \n",
    "\n",
    "$X^TX + \\lambda E = X^TX - (-\\lambda E)$, где $-\\lambda < 0$, а значит это не значение из спектра и матрица обратима. Ура!"
   ]
  },
  {
   "attachments": {},
   "cell_type": "markdown",
   "metadata": {
    "id": "Gdffe8TCAn76"
   },
   "source": [
    "**7. [0,55 балла]** Пусть теперь $\\text{rk}~X < k$. Всегда ли в этом случае существует решение? Если существует, то является ли оно единственным? Ответ обоснуйте."
   ]
  },
  {
   "attachments": {},
   "cell_type": "markdown",
   "metadata": {
    "id": "P1h46LL8An76"
   },
   "source": [
    "**Комментарий:**\n",
    "\n",
    "Для $\\lambda = 0$ невозможно будет взять обратную (так как матрица Грама будет вырождена) и последнее уравнение выше переписывается в виде $AX = b$, где $A = X^TX$, $b = X^Ty$ решений будет или 0, или бесконечное количество из-за вырожденности $А$.\n",
    "\n",
    "Для $\\lambda \\neq 0$ будет одно решение, так как обратимость не нарушится (да какие-то миноры станут равными нулю и слагаемые с ними пропадут, однако старший член от них не зависит; поэтому свойство, что все слагаемые одного знака, нарушаться не будет, а тогда рассуждения дальше аналогичны и обратная всё так же есть).\n"
   ]
  },
  {
   "attachments": {},
   "cell_type": "markdown",
   "metadata": {
    "id": "m7gvthEgAn77"
   },
   "source": [
    "**8. [0,45 балла]** Покажите, что если решений бесконечно много, то среди них обязательно найдутся решения со сколь угодно большими по модулю компонентами вектора $a$."
   ]
  },
  {
   "attachments": {},
   "cell_type": "markdown",
   "metadata": {
    "id": "gVPOHJuZAn77"
   },
   "source": [
    "Предположим обратное. Пуская у каждой координаты в этом множестве векторов есть инфинум и супремум. Рассмотрим такую координату $i$, для которой $inf(a_i) \\neq sup(a_i)$ (такая обязательно есть, поскольку в противном случае все координаты всех векторов равны и решений не бесконечное кол-во). Возьмём два каких-нибудь вектора $x$ и $y$, таких что $x_i$ лежит в малой $\\xi$-окрестности $inf(a_i)$, а $y_i$ лежит в малой окрестности $sup(a_i)$, т.е $x_i - inf(a_i) < \\xi$ и $sup(a_i) - y_i < \\xi$ $\\Leftrightarrow$ $x_i < \\xi + inf(a_i)$ и $sup(a_i) - \\xi < y_i$.\n",
    "\n",
    "Рассмотрим вектор $2y - x$, который тоже является решением. Тогда $i$-я координата этого решения $(2y - x)_i > 2 \\cdot sup(a_i) - 2\\xi - \\xi - inf(a_i) = 2 \\cdot sup(a_i) - inf(a_i) - 3\\xi = sup(a_i) + (sup(a_i) - inf(a_i)) - 3\\xi$. Тогда если выбрать $\\xi = \\frac{sup(a_i) - inf(a_i)}{3} > 0$ получим, что $(2y - x)_i > sup(a_i)$. Противоречие, значит найдётся вектор со сколько угодно большими компонентами."
   ]
  },
  {
   "attachments": {},
   "cell_type": "markdown",
   "metadata": {
    "id": "l6hnfV4vAn7-"
   },
   "source": [
    "### Добавление. QR-разложение"
   ]
  },
  {
   "attachments": {},
   "cell_type": "markdown",
   "metadata": {
    "id": "Al3Mv6w8An7-"
   },
   "source": [
    "**QR-разложением** матрицы $A$ (не обязательно квадратной) мы будем называть её представление в виде $A = QR$, где $Q$ — матрица с ортонормированными столбцами, а $R$ - верхнетреугольная матрица.\n",
    "\n",
    "Смысл QR-разложения следующий. Пусть $a_1,\\ldots,a_m$ — столбцы матрицы $A$, $q_1,\\ldots,q_t$ — столбцы матрицы $Q$. Тогда $q_1,\\ldots,q_t$ — это ортонормированный базис в подпространстве, являющемся линейной оболочкой векторов $a_1,\\ldots,a_m$, а в матрице $R$ записаны коэффициенты, с помощью которых $a_i$ выражаются через $q_1,\\ldots,q_t$.\n",
    "\n",
    "Находить QR-разложение заданной матрицы можно разными способами. Мы познакомим Вас не с самым лучшим из них, но по крайней мере с наиболее простым концептуально. Заметим, что ортогональный базис линейной оболочки можно найти с помощью ортогонализации Грама-Шмидта. При этом коэффициенты из матрицы $R$ получаются в качестве побочного продукта этого процесса:\n",
    "\n",
    "```python\n",
    "for j = 1...n:\n",
    "    q_j = a_j\n",
    "    for i = 1,...,j-1:\n",
    "        r_ij = (q_i, a_j)\n",
    "        q_j = q_j - r_ij * q_i\n",
    "    r_jj = |q_j|\n",
    "    if r_jj == 0: # a_j in <a_1,...,a_j-1>\n",
    "        # What would you do in this case?..\n",
    "    q_j = q_j / r_jj\n",
    "```\n",
    "\n",
    "Для нахождения QR-разложения Вы можете использовать библиотечную функцию `scipy.linalg.qr`."
   ]
  },
  {
   "attachments": {},
   "cell_type": "markdown",
   "metadata": {
    "id": "UB3uxms8An7_"
   },
   "source": [
    "Поскольку лабораторная про линейную регрессию, не так-то просто замять вопрос о том, какое же отношение QR-разложение имеет к задаче регрессии. Упомянем одно из возможных применений.\n",
    "\n",
    "Допустим, мы нашли QR-разложение матрицы $X$, а именно: $X = QR$. Тогда\n",
    "$$X^TX = (QR)^T(QR) = R^TQ^TQR = R^TR$$"
   ]
  },
  {
   "attachments": {},
   "cell_type": "markdown",
   "metadata": {
    "id": "2XfyZf8zAn7_"
   },
   "source": [
    "Поскольку в задаче регрессии матрица $X$ обычно полного ранга (то есть её столбцы линейно независимы), матрица $R$ будет квадратной. Благодаря этому нашу обычную формулу для набора регрессионных коэффициентов $\\hat{a}$ можно переписать в следующем виде:\n",
    "\n",
    "$$\\hat{a} = (X^TX)^{-1}X^Ty = (R^TR)^{-1}(QR)^Ty = R^{-1}(R^T)^{-1}R^TQ^Ty = R^{-1}Q^Ty$$\n",
    "\n",
    "Как видите, формула стала проще. Более того, зачастую обращение матрицы $R$ может быть численно более устойчиво, чем обращение матрицы $X^TX$."
   ]
  },
  {
   "cell_type": "code",
   "execution_count": 108,
   "metadata": {
    "ExecuteTime": {
     "end_time": "2023-05-29T14:23:28.158019Z",
     "start_time": "2023-05-29T14:23:27.953915Z"
    }
   },
   "outputs": [
    {
     "ename": "OSError",
     "evalue": "diamonds_test.csv not found.",
     "output_type": "error",
     "traceback": [
      "\u001B[0;31m---------------------------------------------------------------------------\u001B[0m",
      "\u001B[0;31mOSError\u001B[0m                                   Traceback (most recent call last)",
      "Input \u001B[0;32mIn [108]\u001B[0m, in \u001B[0;36m<cell line: 12>\u001B[0;34m()\u001B[0m\n\u001B[1;32m      9\u001B[0m log_train \u001B[38;5;241m=\u001B[39m np\u001B[38;5;241m.\u001B[39mlog(y_train)\n\u001B[1;32m     10\u001B[0m cfs_train_poly \u001B[38;5;241m=\u001B[39m np\u001B[38;5;241m.\u001B[39mmatmul(np\u001B[38;5;241m.\u001B[39mlinalg\u001B[38;5;241m.\u001B[39minv(np\u001B[38;5;241m.\u001B[39mmatmul(poly_X_train_t, poly_X_train)), np\u001B[38;5;241m.\u001B[39mmatmul(poly_X_train_t, log_train))\n\u001B[0;32m---> 12\u001B[0m DATA \u001B[38;5;241m=\u001B[39m \u001B[43mnp\u001B[49m\u001B[38;5;241;43m.\u001B[39;49m\u001B[43mloadtxt\u001B[49m\u001B[43m(\u001B[49m\u001B[38;5;124;43m\"\u001B[39;49m\u001B[38;5;124;43mdiamonds_test.csv\u001B[39;49m\u001B[38;5;124;43m\"\u001B[39;49m\u001B[43m,\u001B[49m\u001B[43m \u001B[49m\u001B[43mdelimiter\u001B[49m\u001B[38;5;241;43m=\u001B[39;49m\u001B[38;5;124;43m\"\u001B[39;49m\u001B[38;5;124;43m,\u001B[39;49m\u001B[38;5;124;43m\"\u001B[39;49m\u001B[43m,\u001B[49m\u001B[43m \u001B[49m\u001B[43mdtype\u001B[49m\u001B[38;5;241;43m=\u001B[39;49m\u001B[38;5;124;43m\"\u001B[39;49m\u001B[38;5;124;43mstr\u001B[39;49m\u001B[38;5;124;43m\"\u001B[39;49m\u001B[43m)\u001B[49m[\u001B[38;5;241m1\u001B[39m:, :]\n\u001B[1;32m     13\u001B[0m X_DATA \u001B[38;5;241m=\u001B[39m np\u001B[38;5;241m.\u001B[39mconcatenate((new_enc\u001B[38;5;241m.\u001B[39mtransform(DATA[:, categorical_features]), DATA[:, numeric_features]\u001B[38;5;241m.\u001B[39mastype(np\u001B[38;5;241m.\u001B[39mfloat64)), axis\u001B[38;5;241m=\u001B[39m\u001B[38;5;241m1\u001B[39m)\n\u001B[1;32m     14\u001B[0m X_DATA \u001B[38;5;241m=\u001B[39m np\u001B[38;5;241m.\u001B[39mconcatenate((X_DATA, add_polynomial_features(X_DATA[:, [\u001B[38;5;241m3\u001B[39m, \u001B[38;5;241m5\u001B[39m]]\u001B[38;5;241m.\u001B[39mT, \u001B[38;5;241m2\u001B[39m)\u001B[38;5;241m.\u001B[39mT), axis\u001B[38;5;241m=\u001B[39m\u001B[38;5;241m1\u001B[39m)\n",
      "File \u001B[0;32m~/opt/anaconda3/lib/python3.9/site-packages/numpy/lib/npyio.py:1067\u001B[0m, in \u001B[0;36mloadtxt\u001B[0;34m(fname, dtype, comments, delimiter, converters, skiprows, usecols, unpack, ndmin, encoding, max_rows, like)\u001B[0m\n\u001B[1;32m   1065\u001B[0m     fname \u001B[38;5;241m=\u001B[39m os_fspath(fname)\n\u001B[1;32m   1066\u001B[0m \u001B[38;5;28;01mif\u001B[39;00m _is_string_like(fname):\n\u001B[0;32m-> 1067\u001B[0m     fh \u001B[38;5;241m=\u001B[39m \u001B[43mnp\u001B[49m\u001B[38;5;241;43m.\u001B[39;49m\u001B[43mlib\u001B[49m\u001B[38;5;241;43m.\u001B[39;49m\u001B[43m_datasource\u001B[49m\u001B[38;5;241;43m.\u001B[39;49m\u001B[43mopen\u001B[49m\u001B[43m(\u001B[49m\u001B[43mfname\u001B[49m\u001B[43m,\u001B[49m\u001B[43m \u001B[49m\u001B[38;5;124;43m'\u001B[39;49m\u001B[38;5;124;43mrt\u001B[39;49m\u001B[38;5;124;43m'\u001B[39;49m\u001B[43m,\u001B[49m\u001B[43m \u001B[49m\u001B[43mencoding\u001B[49m\u001B[38;5;241;43m=\u001B[39;49m\u001B[43mencoding\u001B[49m\u001B[43m)\u001B[49m\n\u001B[1;32m   1068\u001B[0m     fencoding \u001B[38;5;241m=\u001B[39m \u001B[38;5;28mgetattr\u001B[39m(fh, \u001B[38;5;124m'\u001B[39m\u001B[38;5;124mencoding\u001B[39m\u001B[38;5;124m'\u001B[39m, \u001B[38;5;124m'\u001B[39m\u001B[38;5;124mlatin1\u001B[39m\u001B[38;5;124m'\u001B[39m)\n\u001B[1;32m   1069\u001B[0m     fh \u001B[38;5;241m=\u001B[39m \u001B[38;5;28miter\u001B[39m(fh)\n",
      "File \u001B[0;32m~/opt/anaconda3/lib/python3.9/site-packages/numpy/lib/_datasource.py:193\u001B[0m, in \u001B[0;36mopen\u001B[0;34m(path, mode, destpath, encoding, newline)\u001B[0m\n\u001B[1;32m    156\u001B[0m \u001B[38;5;124;03m\"\"\"\u001B[39;00m\n\u001B[1;32m    157\u001B[0m \u001B[38;5;124;03mOpen `path` with `mode` and return the file object.\u001B[39;00m\n\u001B[1;32m    158\u001B[0m \n\u001B[0;32m   (...)\u001B[0m\n\u001B[1;32m    189\u001B[0m \n\u001B[1;32m    190\u001B[0m \u001B[38;5;124;03m\"\"\"\u001B[39;00m\n\u001B[1;32m    192\u001B[0m ds \u001B[38;5;241m=\u001B[39m DataSource(destpath)\n\u001B[0;32m--> 193\u001B[0m \u001B[38;5;28;01mreturn\u001B[39;00m \u001B[43mds\u001B[49m\u001B[38;5;241;43m.\u001B[39;49m\u001B[43mopen\u001B[49m\u001B[43m(\u001B[49m\u001B[43mpath\u001B[49m\u001B[43m,\u001B[49m\u001B[43m \u001B[49m\u001B[43mmode\u001B[49m\u001B[43m,\u001B[49m\u001B[43m \u001B[49m\u001B[43mencoding\u001B[49m\u001B[38;5;241;43m=\u001B[39;49m\u001B[43mencoding\u001B[49m\u001B[43m,\u001B[49m\u001B[43m \u001B[49m\u001B[43mnewline\u001B[49m\u001B[38;5;241;43m=\u001B[39;49m\u001B[43mnewline\u001B[49m\u001B[43m)\u001B[49m\n",
      "File \u001B[0;32m~/opt/anaconda3/lib/python3.9/site-packages/numpy/lib/_datasource.py:533\u001B[0m, in \u001B[0;36mDataSource.open\u001B[0;34m(self, path, mode, encoding, newline)\u001B[0m\n\u001B[1;32m    530\u001B[0m     \u001B[38;5;28;01mreturn\u001B[39;00m _file_openers[ext](found, mode\u001B[38;5;241m=\u001B[39mmode,\n\u001B[1;32m    531\u001B[0m                               encoding\u001B[38;5;241m=\u001B[39mencoding, newline\u001B[38;5;241m=\u001B[39mnewline)\n\u001B[1;32m    532\u001B[0m \u001B[38;5;28;01melse\u001B[39;00m:\n\u001B[0;32m--> 533\u001B[0m     \u001B[38;5;28;01mraise\u001B[39;00m \u001B[38;5;167;01mIOError\u001B[39;00m(\u001B[38;5;124m\"\u001B[39m\u001B[38;5;132;01m%s\u001B[39;00m\u001B[38;5;124m not found.\u001B[39m\u001B[38;5;124m\"\u001B[39m \u001B[38;5;241m%\u001B[39m path)\n",
      "\u001B[0;31mOSError\u001B[0m: diamonds_test.csv not found."
     ]
    }
   ],
   "source": [
    "# модель без регуляризации\n",
    "new_enc = OrdinalEncoder(categories = [cut, color, clarity])\n",
    "new_enc.fit(X_train[:,categorical_features])\n",
    "poly_X_train = np.concatenate((new_enc.transform(X_train[:, categorical_features]), X_train[:, numeric_features].astype(np.float64)), axis=1)\n",
    "#после перестановки столбцов признаки будут иметь индексы 3 и 5 соответственно\n",
    "poly_X_train = np.concatenate((poly_X_train, add_polynomial_features(poly_X_train[:, [3, 5]].T, 2).T), axis=1)\n",
    "poly_X_train = np.concatenate((poly_X_train, np.ones((poly_X_train.shape[0], 1))), axis=1)\n",
    "poly_X_train_t = np.transpose(poly_X_train)\n",
    "log_train = np.log(y_train)\n",
    "cfs_train_poly = np.matmul(np.linalg.inv(np.matmul(poly_X_train_t, poly_X_train)), np.matmul(poly_X_train_t, log_train))\n",
    "\n",
    "DATA = np.loadtxt(\"diamonds_test.csv\", delimiter=\",\", dtype=\"str\")[1:, :]\n",
    "X_DATA = np.concatenate((new_enc.transform(DATA[:, categorical_features]), DATA[:, numeric_features].astype(np.float64)), axis=1)\n",
    "X_DATA = np.concatenate((X_DATA, add_polynomial_features(X_DATA[:, [3, 5]].T, 2).T), axis=1)\n",
    "X_DATA = np.concatenate((X_DATA, np.ones((X_DATA.shape[0], 1))), axis=1)\n",
    "predicted_DATA = np.exp(np.clip(np.matmul(X_DATA, cfs_train_poly), 0, 10))\n",
    "make_submission(predicted_DATA)"
   ]
  },
  {
   "attachments": {},
   "cell_type": "markdown",
   "metadata": {},
   "source": [
    "Предсказание вот этой модели (выше) я сдал на kaggle. По факту это просто то, что написано в заданиях 2 и 3 части (полиномиальные признаки степени 2) + добавил еще log-таргет и здесь на удивление это улучшило качество... Ну, окей 🤡"
   ]
  },
  {
   "cell_type": "code",
   "execution_count": null,
   "outputs": [],
   "source": [],
   "metadata": {
    "collapsed": false
   }
  }
 ],
 "metadata": {
  "colab": {
   "collapsed_sections": [],
   "name": "HSE Lab (linear regression) 21-22.ipynb",
   "provenance": []
  },
  "kernelspec": {
   "display_name": "Python 3",
   "language": "python",
   "name": "python3"
  },
  "language_info": {
   "codemirror_mode": {
    "name": "ipython",
    "version": 3
   },
   "file_extension": ".py",
   "mimetype": "text/x-python",
   "name": "python",
   "nbconvert_exporter": "python",
   "pygments_lexer": "ipython3",
   "version": "3.9.12"
  }
 },
 "nbformat": 4,
 "nbformat_minor": 0
}
